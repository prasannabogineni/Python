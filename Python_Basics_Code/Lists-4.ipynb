{
 "cells": [
  {
   "cell_type": "code",
   "execution_count": 1,
   "id": "629f66e7",
   "metadata": {},
   "outputs": [
    {
     "data": {
      "text/plain": [
       "['bread', 'pasta', 'fruits', 'veggies']"
      ]
     },
     "execution_count": 1,
     "metadata": {},
     "output_type": "execute_result"
    }
   ],
   "source": [
    "items = [\"bread\",\"pasta\",\"fruits\",\"veggies\"]\n",
    "items"
   ]
  },
  {
   "cell_type": "code",
   "execution_count": 2,
   "id": "af149a60",
   "metadata": {},
   "outputs": [
    {
     "data": {
      "text/plain": [
       "'fruits'"
      ]
     },
     "execution_count": 2,
     "metadata": {},
     "output_type": "execute_result"
    }
   ],
   "source": [
    "items[2]"
   ]
  },
  {
   "cell_type": "code",
   "execution_count": 3,
   "id": "28412074",
   "metadata": {},
   "outputs": [
    {
     "data": {
      "text/plain": [
       "'veggies'"
      ]
     },
     "execution_count": 3,
     "metadata": {},
     "output_type": "execute_result"
    }
   ],
   "source": [
    "items[-1]"
   ]
  },
  {
   "cell_type": "code",
   "execution_count": 7,
   "id": "cd577d52",
   "metadata": {
    "scrolled": true
   },
   "outputs": [
    {
     "data": {
      "text/plain": [
       "['bread', 'pasta']"
      ]
     },
     "execution_count": 7,
     "metadata": {},
     "output_type": "execute_result"
    }
   ],
   "source": [
    "items[0:2]"
   ]
  },
  {
   "cell_type": "code",
   "execution_count": 8,
   "id": "c9b4e2da",
   "metadata": {},
   "outputs": [
    {
     "data": {
      "text/plain": [
       "['bread', 'pasta', 'fruits', 'veggies', 'butter']"
      ]
     },
     "execution_count": 8,
     "metadata": {},
     "output_type": "execute_result"
    }
   ],
   "source": [
    "items.append(\"butter\")\n",
    "items"
   ]
  },
  {
   "cell_type": "code",
   "execution_count": 9,
   "id": "cda57ae8",
   "metadata": {},
   "outputs": [
    {
     "data": {
      "text/plain": [
       "['bread', 'pasta', 'fruits', 'veggies']"
      ]
     },
     "execution_count": 9,
     "metadata": {},
     "output_type": "execute_result"
    }
   ],
   "source": [
    "items = [\"bread\",\"pasta\",\"fruits\",\"veggies\"]\n",
    "items"
   ]
  },
  {
   "cell_type": "code",
   "execution_count": 10,
   "id": "5ef34ca5",
   "metadata": {},
   "outputs": [
    {
     "data": {
      "text/plain": [
       "['bread', 'butter', 'pasta', 'fruits', 'veggies']"
      ]
     },
     "execution_count": 10,
     "metadata": {},
     "output_type": "execute_result"
    }
   ],
   "source": [
    "items.insert(1, \"butter\")\n",
    "items"
   ]
  },
  {
   "cell_type": "code",
   "execution_count": 11,
   "id": "e7bfb4e1",
   "metadata": {},
   "outputs": [
    {
     "data": {
      "text/plain": [
       "['bread', 'butter', 'fruits', 'veggies']"
      ]
     },
     "execution_count": 11,
     "metadata": {},
     "output_type": "execute_result"
    }
   ],
   "source": [
    "items.remove(\"pasta\")\n",
    "items"
   ]
  },
  {
   "cell_type": "code",
   "execution_count": 12,
   "id": "99e32043",
   "metadata": {},
   "outputs": [
    {
     "data": {
      "text/plain": [
       "False"
      ]
     },
     "execution_count": 12,
     "metadata": {},
     "output_type": "execute_result"
    }
   ],
   "source": [
    "\"rice\" in items"
   ]
  },
  {
   "cell_type": "code",
   "execution_count": 13,
   "id": "f4c6c2bf",
   "metadata": {},
   "outputs": [
    {
     "data": {
      "text/plain": [
       "True"
      ]
     },
     "execution_count": 13,
     "metadata": {},
     "output_type": "execute_result"
    }
   ],
   "source": [
    "\"rice\" not in items"
   ]
  },
  {
   "cell_type": "code",
   "execution_count": 14,
   "id": "5717a2eb",
   "metadata": {},
   "outputs": [
    {
     "data": {
      "text/plain": [
       "True"
      ]
     },
     "execution_count": 14,
     "metadata": {},
     "output_type": "execute_result"
    }
   ],
   "source": [
    "\"bread\" in items"
   ]
  },
  {
   "cell_type": "code",
   "execution_count": 15,
   "id": "12f54f1b",
   "metadata": {},
   "outputs": [
    {
     "data": {
      "text/plain": [
       "[30, 1200, 45, 300]"
      ]
     },
     "execution_count": 15,
     "metadata": {},
     "output_type": "execute_result"
    }
   ],
   "source": [
    "expenses = [30,1200,45,300]\n",
    "expenses"
   ]
  },
  {
   "cell_type": "code",
   "execution_count": 17,
   "id": "e0ce9160",
   "metadata": {},
   "outputs": [
    {
     "data": {
      "text/plain": [
       "[30, 45, 300, 1200]"
      ]
     },
     "execution_count": 17,
     "metadata": {},
     "output_type": "execute_result"
    }
   ],
   "source": [
    "expenses.sort()\n",
    "expenses"
   ]
  },
  {
   "cell_type": "code",
   "execution_count": 20,
   "id": "b732abb5",
   "metadata": {},
   "outputs": [
    {
     "data": {
      "text/plain": [
       "['zebra', 'bro', 'Ant']"
      ]
     },
     "execution_count": 20,
     "metadata": {},
     "output_type": "execute_result"
    }
   ],
   "source": [
    "my_list=[\"zebra\",\"bro\",\"Ant\"]\n",
    "my_list.sort(reverse=True)\n",
    "my_list"
   ]
  },
  {
   "cell_type": "code",
   "execution_count": 21,
   "id": "cc528e06",
   "metadata": {},
   "outputs": [],
   "source": [
    "food_items=[\"bread\",\"pasta\",\"fruits\"]\n",
    "bathroom_items=[\"shampoo\",\"soap\"]"
   ]
  },
  {
   "cell_type": "code",
   "execution_count": 22,
   "id": "e051717a",
   "metadata": {},
   "outputs": [
    {
     "data": {
      "text/plain": [
       "['bread', 'pasta', 'fruits', 'shampoo', 'soap']"
      ]
     },
     "execution_count": 22,
     "metadata": {},
     "output_type": "execute_result"
    }
   ],
   "source": [
    "all_items=food_items + bathroom_items\n",
    "all_items"
   ]
  },
  {
   "cell_type": "code",
   "execution_count": 23,
   "id": "81171f9d",
   "metadata": {},
   "outputs": [
    {
     "data": {
      "text/plain": [
       "5"
      ]
     },
     "execution_count": 23,
     "metadata": {},
     "output_type": "execute_result"
    }
   ],
   "source": [
    "len(all_items)"
   ]
  },
  {
   "cell_type": "code",
   "execution_count": 24,
   "id": "ab5cd775",
   "metadata": {},
   "outputs": [
    {
     "data": {
      "text/plain": [
       "['__add__',\n",
       " '__class__',\n",
       " '__contains__',\n",
       " '__delattr__',\n",
       " '__delitem__',\n",
       " '__dir__',\n",
       " '__doc__',\n",
       " '__eq__',\n",
       " '__format__',\n",
       " '__ge__',\n",
       " '__getattribute__',\n",
       " '__getitem__',\n",
       " '__gt__',\n",
       " '__hash__',\n",
       " '__iadd__',\n",
       " '__imul__',\n",
       " '__init__',\n",
       " '__init_subclass__',\n",
       " '__iter__',\n",
       " '__le__',\n",
       " '__len__',\n",
       " '__lt__',\n",
       " '__mul__',\n",
       " '__ne__',\n",
       " '__new__',\n",
       " '__reduce__',\n",
       " '__reduce_ex__',\n",
       " '__repr__',\n",
       " '__reversed__',\n",
       " '__rmul__',\n",
       " '__setattr__',\n",
       " '__setitem__',\n",
       " '__sizeof__',\n",
       " '__str__',\n",
       " '__subclasshook__',\n",
       " 'append',\n",
       " 'clear',\n",
       " 'copy',\n",
       " 'count',\n",
       " 'extend',\n",
       " 'index',\n",
       " 'insert',\n",
       " 'pop',\n",
       " 'remove',\n",
       " 'reverse',\n",
       " 'sort']"
      ]
     },
     "execution_count": 24,
     "metadata": {},
     "output_type": "execute_result"
    }
   ],
   "source": [
    "dir(all_items)"
   ]
  },
  {
   "cell_type": "code",
   "execution_count": 25,
   "id": "39a5fd24",
   "metadata": {},
   "outputs": [
    {
     "data": {
      "text/plain": [
       "['bread', 'butter', 'fruits', 'veggies']"
      ]
     },
     "execution_count": 25,
     "metadata": {},
     "output_type": "execute_result"
    }
   ],
   "source": [
    "items"
   ]
  },
  {
   "cell_type": "code",
   "execution_count": 28,
   "id": "fc380279",
   "metadata": {},
   "outputs": [
    {
     "data": {
      "text/plain": [
       "['veggies', 'fruits', 'butter', 'bread']"
      ]
     },
     "execution_count": 28,
     "metadata": {},
     "output_type": "execute_result"
    }
   ],
   "source": [
    "items.reverse()\n",
    "items"
   ]
  },
  {
   "cell_type": "code",
   "execution_count": 29,
   "id": "90c40451",
   "metadata": {},
   "outputs": [
    {
     "data": {
      "text/plain": [
       "['car', 4.5, True]"
      ]
     },
     "execution_count": 29,
     "metadata": {},
     "output_type": "execute_result"
    }
   ],
   "source": [
    "random=[\"car\",4.5,True]\n",
    "random"
   ]
  },
  {
   "cell_type": "code",
   "execution_count": 30,
   "id": "afa9b703",
   "metadata": {},
   "outputs": [
    {
     "data": {
      "text/plain": [
       "['veggies', 'fruits', 'butter']"
      ]
     },
     "execution_count": 30,
     "metadata": {},
     "output_type": "execute_result"
    }
   ],
   "source": [
    "items.pop()\n",
    "items"
   ]
  },
  {
   "cell_type": "code",
   "execution_count": 31,
   "id": "581982c6",
   "metadata": {},
   "outputs": [
    {
     "data": {
      "text/plain": [
       "[]"
      ]
     },
     "execution_count": 31,
     "metadata": {},
     "output_type": "execute_result"
    }
   ],
   "source": [
    "items.clear()\n",
    "items"
   ]
  },
  {
   "cell_type": "markdown",
   "id": "63fb1067",
   "metadata": {},
   "source": [
    "# Exercises:"
   ]
  },
  {
   "cell_type": "code",
   "execution_count": 85,
   "id": "14e138b4",
   "metadata": {},
   "outputs": [
    {
     "data": {
      "text/plain": [
       "['Iron Man', 'Captain America', 'Black Widow', 'Hulk', 'Thor', 'Hawkeye']"
      ]
     },
     "execution_count": 85,
     "metadata": {},
     "output_type": "execute_result"
    }
   ],
   "source": [
    "avengers  = [\"Iron Man\", \"Captain America\", \"Black Widow\", \"Hulk\", \"Thor\", \"Hawkeye\"]\n",
    "avengers"
   ]
  },
  {
   "cell_type": "code",
   "execution_count": 86,
   "id": "8c956b01",
   "metadata": {},
   "outputs": [
    {
     "data": {
      "text/plain": [
       "6"
      ]
     },
     "execution_count": 86,
     "metadata": {},
     "output_type": "execute_result"
    }
   ],
   "source": [
    "len(avengers)"
   ]
  },
  {
   "cell_type": "code",
   "execution_count": 87,
   "id": "2ecb5405",
   "metadata": {},
   "outputs": [
    {
     "data": {
      "text/plain": [
       "['Iron Man',\n",
       " 'Captain America',\n",
       " 'Black Widow',\n",
       " 'Hulk',\n",
       " 'Thor',\n",
       " 'Hawkeye',\n",
       " 'spider-man']"
      ]
     },
     "execution_count": 87,
     "metadata": {},
     "output_type": "execute_result"
    }
   ],
   "source": [
    "avengers.append(\"spider-man\")\n",
    "avengers"
   ]
  },
  {
   "cell_type": "code",
   "execution_count": 88,
   "id": "79a8e064",
   "metadata": {},
   "outputs": [
    {
     "data": {
      "text/plain": [
       "['Iron Man', 'Black Widow', 'Hulk', 'Thor', 'Hawkeye', 'spider-man']"
      ]
     },
     "execution_count": 88,
     "metadata": {},
     "output_type": "execute_result"
    }
   ],
   "source": [
    "avengers.remove(\"Captain America\")\n",
    "avengers"
   ]
  },
  {
   "cell_type": "code",
   "execution_count": 89,
   "id": "b872a4ef",
   "metadata": {},
   "outputs": [
    {
     "data": {
      "text/plain": [
       "['Captain America',\n",
       " 'Iron Man',\n",
       " 'Black Widow',\n",
       " 'Hulk',\n",
       " 'Thor',\n",
       " 'Hawkeye',\n",
       " 'spider-man']"
      ]
     },
     "execution_count": 89,
     "metadata": {},
     "output_type": "execute_result"
    }
   ],
   "source": [
    "avengers.insert(0,\"Captain America\")\n",
    "avengers"
   ]
  },
  {
   "cell_type": "code",
   "execution_count": 90,
   "id": "e3012771",
   "metadata": {
    "scrolled": true
   },
   "outputs": [
    {
     "data": {
      "text/plain": [
       "['Captain America',\n",
       " 'Iron Man',\n",
       " 'Black Widow',\n",
       " 'Hulk',\n",
       " 'Hawkeye',\n",
       " 'Thor',\n",
       " 'spider-man']"
      ]
     },
     "execution_count": 90,
     "metadata": {},
     "output_type": "execute_result"
    }
   ],
   "source": [
    "avengers.remove(\"Hawkeye\")\n",
    "avengers.insert(4,\"Hawkeye\")\n",
    "avengers"
   ]
  },
  {
   "cell_type": "code",
   "execution_count": 96,
   "id": "0ce1801e",
   "metadata": {},
   "outputs": [
    {
     "data": {
      "text/plain": [
       "['spider-man']"
      ]
     },
     "execution_count": 96,
     "metadata": {},
     "output_type": "execute_result"
    }
   ],
   "source": [
    "avengers.pop(0)\n",
    "avengers"
   ]
  },
  {
   "cell_type": "code",
   "execution_count": 113,
   "id": "b926a198",
   "metadata": {},
   "outputs": [
    {
     "data": {
      "text/plain": [
       "['Doctor Strange', 'Vision', 'Wanda', 'Kate Bishop', 'Ant-Man']"
      ]
     },
     "execution_count": 113,
     "metadata": {},
     "output_type": "execute_result"
    }
   ],
   "source": [
    "\n",
    "new_heroes = ['Doctor Strange', 'Vision', 'Wanda', 'Kate Bishop', 'Ant-Man']\n",
    "new_heroes"
   ]
  },
  {
   "cell_type": "code",
   "execution_count": 114,
   "id": "17a192c8",
   "metadata": {},
   "outputs": [
    {
     "data": {
      "text/plain": [
       "['spider-man',\n",
       " 'Doctor Strange',\n",
       " 'Vision, Wanda',\n",
       " 'Kate Bishop',\n",
       " 'Ant-Man',\n",
       " 'Doctor Strange',\n",
       " 'Vision',\n",
       " 'Wanda',\n",
       " 'Kate Bishop',\n",
       " 'Ant-Man',\n",
       " 'Doctor Strange',\n",
       " 'Vision',\n",
       " 'Wanda',\n",
       " 'Kate Bishop',\n",
       " 'Ant-Man',\n",
       " 'Doctor Strange',\n",
       " 'Vision',\n",
       " 'Wanda',\n",
       " 'Kate Bishop',\n",
       " 'Ant-Man',\n",
       " 'Doctor Strange',\n",
       " 'Vision',\n",
       " 'Wanda',\n",
       " 'Kate Bishop',\n",
       " 'Ant-Man',\n",
       " 'Doctor Strange',\n",
       " 'Vision',\n",
       " 'Wanda',\n",
       " 'Kate Bishop',\n",
       " 'Ant-Man',\n",
       " 'Doctor Strange',\n",
       " 'Vision',\n",
       " 'Wanda',\n",
       " 'Kate Bishop',\n",
       " 'Ant-Man']"
      ]
     },
     "execution_count": 114,
     "metadata": {},
     "output_type": "execute_result"
    }
   ],
   "source": [
    "avengers.extend(new_heroes)\n",
    "avengers"
   ]
  },
  {
   "cell_type": "code",
   "execution_count": 116,
   "id": "ba426335",
   "metadata": {},
   "outputs": [
    {
     "data": {
      "text/plain": [
       "['Ant-Man',\n",
       " 'Ant-Man',\n",
       " 'Ant-Man',\n",
       " 'Ant-Man',\n",
       " 'Ant-Man',\n",
       " 'Ant-Man',\n",
       " 'Ant-Man',\n",
       " 'Doctor Strange',\n",
       " 'Doctor Strange',\n",
       " 'Doctor Strange',\n",
       " 'Doctor Strange',\n",
       " 'Doctor Strange',\n",
       " 'Doctor Strange',\n",
       " 'Doctor Strange',\n",
       " 'Kate Bishop',\n",
       " 'Kate Bishop',\n",
       " 'Kate Bishop',\n",
       " 'Kate Bishop',\n",
       " 'Kate Bishop',\n",
       " 'Kate Bishop',\n",
       " 'Kate Bishop',\n",
       " 'Vision',\n",
       " 'Vision',\n",
       " 'Vision',\n",
       " 'Vision',\n",
       " 'Vision',\n",
       " 'Vision',\n",
       " 'Vision, Wanda',\n",
       " 'Wanda',\n",
       " 'Wanda',\n",
       " 'Wanda',\n",
       " 'Wanda',\n",
       " 'Wanda',\n",
       " 'Wanda',\n",
       " 'spider-man']"
      ]
     },
     "execution_count": 116,
     "metadata": {},
     "output_type": "execute_result"
    }
   ],
   "source": [
    "avengers.sort()\n",
    "avengers"
   ]
  },
  {
   "cell_type": "code",
   "execution_count": null,
   "id": "a6d64b6a",
   "metadata": {},
   "outputs": [],
   "source": []
  },
  {
   "cell_type": "markdown",
   "id": "6dab86ab",
   "metadata": {},
   "source": [
    "# thankng you!!!!"
   ]
  },
  {
   "cell_type": "code",
   "execution_count": null,
   "id": "95dd94bf",
   "metadata": {},
   "outputs": [],
   "source": []
  }
 ],
 "metadata": {
  "kernelspec": {
   "display_name": "Python 3 (ipykernel)",
   "language": "python",
   "name": "python3"
  },
  "language_info": {
   "codemirror_mode": {
    "name": "ipython",
    "version": 3
   },
   "file_extension": ".py",
   "mimetype": "text/x-python",
   "name": "python",
   "nbconvert_exporter": "python",
   "pygments_lexer": "ipython3",
   "version": "3.8.10"
  }
 },
 "nbformat": 4,
 "nbformat_minor": 5
}

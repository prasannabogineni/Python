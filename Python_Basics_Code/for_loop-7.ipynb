{
 "cells": [
  {
   "cell_type": "raw",
   "id": "45d4c903",
   "metadata": {},
   "source": [
    "1. Write a Python program to print the following pattern.\n",
    "\n",
    "1 2 3 4 5\n",
    "1 2 3 4 \n",
    "1 2 3\n",
    "1 2\n",
    "1"
   ]
  },
  {
   "cell_type": "code",
   "execution_count": 31,
   "id": "6b0824da",
   "metadata": {},
   "outputs": [],
   "source": [
    "n = 6"
   ]
  },
  {
   "cell_type": "code",
   "execution_count": 36,
   "id": "10383579",
   "metadata": {},
   "outputs": [
    {
     "name": "stdout",
     "output_type": "stream",
     "text": [
      "1 2 3 4 5 \n",
      "1 2 3 4 \n",
      "1 2 3 \n",
      "1 2 \n",
      "1 \n"
     ]
    }
   ],
   "source": [
    "n = 6\n",
    "# rows\n",
    "for i in range(n, 1, -1):\n",
    "    \n",
    "    # columns\n",
    "    for j in range(1, i):\n",
    "        print(j, end=\" \")\n",
    "\n",
    "    # print new line after each row\n",
    "    print()"
   ]
  },
  {
   "cell_type": "raw",
   "id": "90a14a04",
   "metadata": {},
   "source": [
    "2. Write a Python program to find the sum of all the numbers except odd numbers between 1 and 20 using a loop. Can you also do this using a while loop?\n",
    "\n"
   ]
  },
  {
   "cell_type": "code",
   "execution_count": 41,
   "id": "417b0b66",
   "metadata": {},
   "outputs": [],
   "source": [
    "sum_ = 0\n",
    "for num in range(1, 21):\n",
    "    if num % 2 != 0:\n",
    "        continue\n",
    "    else:\n",
    "        sum_ = sum_ + num \n",
    "        "
   ]
  },
  {
   "cell_type": "code",
   "execution_count": 42,
   "id": "fbdf803d",
   "metadata": {},
   "outputs": [
    {
     "name": "stdout",
     "output_type": "stream",
     "text": [
      "110\n"
     ]
    }
   ],
   "source": [
    "print(sum_)"
   ]
  },
  {
   "cell_type": "code",
   "execution_count": 43,
   "id": "4508a564",
   "metadata": {},
   "outputs": [
    {
     "name": "stdout",
     "output_type": "stream",
     "text": [
      "110\n"
     ]
    }
   ],
   "source": [
    "# Method 2\n",
    "\n",
    "sum_ = 0\n",
    "for num in range(1,21):\n",
    "    if num % 2 == 0:\n",
    "        sum_ = sum_ + num\n",
    "        # sum_ += num\n",
    "\n",
    "print(sum_)"
   ]
  },
  {
   "cell_type": "code",
   "execution_count": 48,
   "id": "9d09d3ad",
   "metadata": {},
   "outputs": [
    {
     "name": "stdout",
     "output_type": "stream",
     "text": [
      "110\n"
     ]
    }
   ],
   "source": [
    "# Using While loop\n",
    "\n",
    "sum_ = 0\n",
    "num = 1\n",
    "while num <= 20:\n",
    "\n",
    "    if num %2 ==0:\n",
    "        sum_ += num\n",
    "    \n",
    "    num = num + 1\n",
    "\n",
    "print(sum_)"
   ]
  },
  {
   "cell_type": "raw",
   "id": "02b32fbf",
   "metadata": {},
   "source": [
    "3. After throwing the dice several times, you got this result,\n",
    "\n",
    "dice_result  = [5,6,4,2,5,4,4,5,3,3,2,6,1,2,1,1,6,5]\n",
    "Using a for loop find out the followings:\n",
    "How many times have you got 6s\n",
    "\n",
    "How many times have you got 1s\n",
    "\n",
    "How many times have you got 6s two times in a row"
   ]
  },
  {
   "cell_type": "code",
   "execution_count": 49,
   "id": "633f4d62",
   "metadata": {},
   "outputs": [
    {
     "data": {
      "text/plain": [
       "[5, 6, 4, 2, 5, 4, 4, 5, 3, 3, 2, 6, 1, 2, 1, 1, 6, 5]"
      ]
     },
     "execution_count": 49,
     "metadata": {},
     "output_type": "execute_result"
    }
   ],
   "source": [
    "dice_result  = [5,6,4,2,5,4,4,5,3,3,2,6,1,2,1,1,6,5]\n",
    "dice_result"
   ]
  },
  {
   "cell_type": "code",
   "execution_count": 50,
   "id": "c8bc2844",
   "metadata": {},
   "outputs": [
    {
     "name": "stdout",
     "output_type": "stream",
     "text": [
      "3\n"
     ]
    }
   ],
   "source": [
    "sixes = 0\n",
    "for n in dice_result:\n",
    "    if n==6:\n",
    "        sixes += 1\n",
    "\n",
    "print(sixes)"
   ]
  },
  {
   "cell_type": "code",
   "execution_count": 51,
   "id": "963ea6d2",
   "metadata": {},
   "outputs": [
    {
     "name": "stdout",
     "output_type": "stream",
     "text": [
      "3\n"
     ]
    }
   ],
   "source": [
    "ones = 0\n",
    "for n in dice_result:\n",
    "    if n==1:\n",
    "        ones += 1\n",
    "\n",
    "print(ones)"
   ]
  },
  {
   "cell_type": "code",
   "execution_count": 52,
   "id": "7d7a7113",
   "metadata": {},
   "outputs": [
    {
     "name": "stdout",
     "output_type": "stream",
     "text": [
      "0\n"
     ]
    }
   ],
   "source": [
    "two_6s = 0\n",
    "l = len(dice_result)\n",
    "\n",
    "for i in range(l - 1):\n",
    "    if dice_result[i] == 6 and dice_result[i+1] == 6:\n",
    "        two_6s += 1\n",
    "\n",
    "print(two_6s)"
   ]
  },
  {
   "cell_type": "raw",
   "id": "2c9334f5",
   "metadata": {},
   "source": [
    "4. Let's say you are doing push-ups and you have to complete 50 push-ups daily, write a program that,\n",
    "\n",
    "Upon completing 10 push-ups in a go, asks you, “Are you tired?”\n",
    "\n",
    "If you reply “yes” or “y” then it should break and print “You did total push-ups.”\n",
    "\n",
    "For example: If you did only 30  push-ups and answered “yes” to your program. It will break the loop and print “You did a total of 30 push-ups”\n",
    "\n",
    "If you reply “no” or “n” then it should continue and display how many push-ups are remaining  now after that ask you again “Are you tired?”\n",
    "\n",
    "For Example: if you answered “no” then it should display that 20 push-ups are remaining and ask you again “Are you tired?”\n",
    "\n",
    "If you complete all 50 push-ups, then it should print the “Congratulations! You made it” and stopped the program."
   ]
  },
  {
   "cell_type": "code",
   "execution_count": 58,
   "id": "5e3de052",
   "metadata": {},
   "outputs": [
    {
     "name": "stdout",
     "output_type": "stream",
     "text": [
      "Doing push up.\n",
      "Doing push up.\n",
      "Doing push up.\n",
      "Doing push up.\n",
      "Doing push up.\n",
      "Doing push up.\n",
      "Doing push up.\n",
      "Doing push up.\n",
      "Doing push up.\n",
      "Doing push up.\n",
      "Are you tired? (yes/no)no\n",
      "40 push-ups are remaining today.\n",
      "Doing push up.\n",
      "Doing push up.\n",
      "Doing push up.\n",
      "Doing push up.\n",
      "Doing push up.\n",
      "Doing push up.\n",
      "Doing push up.\n",
      "Doing push up.\n",
      "Doing push up.\n",
      "Doing push up.\n",
      "Are you tired? (yes/no)no\n",
      "30 push-ups are remaining today.\n",
      "Doing push up.\n",
      "Doing push up.\n",
      "Doing push up.\n",
      "Doing push up.\n",
      "Doing push up.\n",
      "Doing push up.\n",
      "Doing push up.\n",
      "Doing push up.\n",
      "Doing push up.\n",
      "Doing push up.\n",
      "Are you tired? (yes/no)no\n",
      "20 push-ups are remaining today.\n",
      "Doing push up.\n",
      "Doing push up.\n",
      "Doing push up.\n",
      "Doing push up.\n",
      "Doing push up.\n",
      "Doing push up.\n",
      "Doing push up.\n",
      "Doing push up.\n",
      "Doing push up.\n",
      "Doing push up.\n",
      "Are you tired? (yes/no)no\n",
      "10 push-ups are remaining today.\n",
      "Doing push up.\n",
      "Doing push up.\n",
      "Doing push up.\n",
      "Doing push up.\n",
      "Doing push up.\n",
      "Doing push up.\n",
      "Doing push up.\n",
      "Doing push up.\n",
      "Doing push up.\n",
      "Doing push up.\n",
      "**********Congratulations! You made it****************\n",
      "You did total 50 Push-ups today.\n"
     ]
    }
   ],
   "source": [
    "pushups = 0\n",
    "answer = \"\"\n",
    "while True:\n",
    "    print(\"Doing push up.\")\n",
    "    pushups += 1\n",
    "    if pushups == 50:\n",
    "        print(\"**********Congratulations! You made it****************\")\n",
    "        break\n",
    "\n",
    "    elif pushups%10 ==0:\n",
    "        answer = input(\"Are you tired? (yes/no)\")\n",
    "        if answer[0].lower() == 'y':\n",
    "            break\n",
    "        else:\n",
    "            print(f\"{50-pushups} push-ups are remaining today.\")\n",
    "\n",
    "\n",
    "\n",
    "print(f\"You did total {pushups} Push-ups today.\")\n"
   ]
  },
  {
   "cell_type": "markdown",
   "id": "288d399e",
   "metadata": {},
   "source": [
    "# Thanking you!!!!!"
   ]
  },
  {
   "cell_type": "code",
   "execution_count": null,
   "id": "10558974",
   "metadata": {},
   "outputs": [],
   "source": []
  }
 ],
 "metadata": {
  "kernelspec": {
   "display_name": "Python 3 (ipykernel)",
   "language": "python",
   "name": "python3"
  },
  "language_info": {
   "codemirror_mode": {
    "name": "ipython",
    "version": 3
   },
   "file_extension": ".py",
   "mimetype": "text/x-python",
   "name": "python",
   "nbconvert_exporter": "python",
   "pygments_lexer": "ipython3",
   "version": "3.8.10"
  }
 },
 "nbformat": 4,
 "nbformat_minor": 5
}

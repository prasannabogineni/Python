{
 "cells": [
  {
   "cell_type": "code",
   "execution_count": 7,
   "id": "c2974a19",
   "metadata": {},
   "outputs": [],
   "source": [
    "base=10\n",
    "height=7"
   ]
  },
  {
   "cell_type": "code",
   "execution_count": 4,
   "id": "9fc28cba",
   "metadata": {},
   "outputs": [
    {
     "data": {
      "text/plain": [
       "float"
      ]
     },
     "execution_count": 4,
     "metadata": {},
     "output_type": "execute_result"
    }
   ],
   "source": [
    "type(base)"
   ]
  },
  {
   "cell_type": "code",
   "execution_count": 8,
   "id": "24e3a42e",
   "metadata": {},
   "outputs": [
    {
     "data": {
      "text/plain": [
       "35.0"
      ]
     },
     "execution_count": 8,
     "metadata": {},
     "output_type": "execute_result"
    }
   ],
   "source": [
    "area=(1/2) * base * height\n",
    "area"
   ]
  },
  {
   "cell_type": "code",
   "execution_count": 9,
   "id": "cce423f0",
   "metadata": {},
   "outputs": [
    {
     "data": {
      "text/plain": [
       "float"
      ]
     },
     "execution_count": 9,
     "metadata": {},
     "output_type": "execute_result"
    }
   ],
   "source": [
    "type(area)"
   ]
  },
  {
   "cell_type": "code",
   "execution_count": 12,
   "id": "3970f20d",
   "metadata": {},
   "outputs": [
    {
     "data": {
      "text/plain": [
       "3"
      ]
     },
     "execution_count": 12,
     "metadata": {},
     "output_type": "execute_result"
    }
   ],
   "source": [
    "10//3"
   ]
  },
  {
   "cell_type": "code",
   "execution_count": 13,
   "id": "1110094e",
   "metadata": {},
   "outputs": [
    {
     "data": {
      "text/plain": [
       "2"
      ]
     },
     "execution_count": 13,
     "metadata": {},
     "output_type": "execute_result"
    }
   ],
   "source": [
    "17%3"
   ]
  },
  {
   "cell_type": "code",
   "execution_count": 15,
   "id": "e7797109",
   "metadata": {},
   "outputs": [
    {
     "data": {
      "text/plain": [
       "81"
      ]
     },
     "execution_count": 15,
     "metadata": {},
     "output_type": "execute_result"
    }
   ],
   "source": [
    "3**4"
   ]
  },
  {
   "cell_type": "code",
   "execution_count": 16,
   "id": "e40a6d06",
   "metadata": {},
   "outputs": [
    {
     "data": {
      "text/plain": [
       "81"
      ]
     },
     "execution_count": 16,
     "metadata": {},
     "output_type": "execute_result"
    }
   ],
   "source": [
    "3*3*3*3"
   ]
  },
  {
   "cell_type": "code",
   "execution_count": 18,
   "id": "00c5c458",
   "metadata": {},
   "outputs": [
    {
     "data": {
      "text/plain": [
       "16"
      ]
     },
     "execution_count": 18,
     "metadata": {},
     "output_type": "execute_result"
    }
   ],
   "source": [
    "10+(2*3)\n"
   ]
  },
  {
   "cell_type": "code",
   "execution_count": 19,
   "id": "91c2688b",
   "metadata": {},
   "outputs": [
    {
     "data": {
      "text/plain": [
       "36"
      ]
     },
     "execution_count": 19,
     "metadata": {},
     "output_type": "execute_result"
    }
   ],
   "source": [
    "(10+2)*3"
   ]
  },
  {
   "cell_type": "code",
   "execution_count": 20,
   "id": "d1d6f13e",
   "metadata": {},
   "outputs": [
    {
     "data": {
      "text/plain": [
       "23000.0"
      ]
     },
     "execution_count": 20,
     "metadata": {},
     "output_type": "execute_result"
    }
   ],
   "source": [
    "foo=2.3e4\n",
    "foo"
   ]
  },
  {
   "cell_type": "code",
   "execution_count": 21,
   "id": "e6be7301",
   "metadata": {},
   "outputs": [
    {
     "data": {
      "text/plain": [
       "10000.0"
      ]
     },
     "execution_count": 21,
     "metadata": {},
     "output_type": "execute_result"
    }
   ],
   "source": [
    "1e4"
   ]
  },
  {
   "cell_type": "code",
   "execution_count": 22,
   "id": "e473245c",
   "metadata": {},
   "outputs": [
    {
     "data": {
      "text/plain": [
       "0.0023"
      ]
     },
     "execution_count": 22,
     "metadata": {},
     "output_type": "execute_result"
    }
   ],
   "source": [
    "bar=2.3e-3\n",
    "bar"
   ]
  },
  {
   "cell_type": "code",
   "execution_count": 38,
   "id": "88d79c01",
   "metadata": {},
   "outputs": [
    {
     "data": {
      "text/plain": [
       "float"
      ]
     },
     "execution_count": 38,
     "metadata": {},
     "output_type": "execute_result"
    }
   ],
   "source": [
    "type(bar)"
   ]
  },
  {
   "cell_type": "code",
   "execution_count": 23,
   "id": "ab170187",
   "metadata": {},
   "outputs": [
    {
     "data": {
      "text/plain": [
       "0.0023"
      ]
     },
     "execution_count": 23,
     "metadata": {},
     "output_type": "execute_result"
    }
   ],
   "source": [
    "2.3*(10**-3)"
   ]
  },
  {
   "cell_type": "code",
   "execution_count": 24,
   "id": "163f79a2",
   "metadata": {},
   "outputs": [],
   "source": [
    "food=120.34\n",
    "rent=500.4\n",
    "utilities=200.5"
   ]
  },
  {
   "cell_type": "code",
   "execution_count": 25,
   "id": "618dab53",
   "metadata": {},
   "outputs": [
    {
     "data": {
      "text/plain": [
       "821.24"
      ]
     },
     "execution_count": 25,
     "metadata": {},
     "output_type": "execute_result"
    }
   ],
   "source": [
    "total=food+rent+utilities\n",
    "total"
   ]
  },
  {
   "cell_type": "code",
   "execution_count": 26,
   "id": "6e854f0f",
   "metadata": {},
   "outputs": [
    {
     "data": {
      "text/plain": [
       "821"
      ]
     },
     "execution_count": 26,
     "metadata": {},
     "output_type": "execute_result"
    }
   ],
   "source": [
    "round(total)"
   ]
  },
  {
   "cell_type": "code",
   "execution_count": 27,
   "id": "e65d2822",
   "metadata": {},
   "outputs": [
    {
     "data": {
      "text/plain": [
       "1000"
      ]
     },
     "execution_count": 27,
     "metadata": {},
     "output_type": "execute_result"
    }
   ],
   "source": [
    "income=10000\n",
    "expenses=9000\n",
    "savings = income - expenses\n",
    "savings"
   ]
  },
  {
   "cell_type": "code",
   "execution_count": 33,
   "id": "c49565ee",
   "metadata": {},
   "outputs": [],
   "source": [
    "food=124.2\n",
    "rent = 500.67"
   ]
  },
  {
   "cell_type": "code",
   "execution_count": 34,
   "id": "16153ce4",
   "metadata": {},
   "outputs": [
    {
     "data": {
      "text/plain": [
       "float"
      ]
     },
     "execution_count": 34,
     "metadata": {},
     "output_type": "execute_result"
    }
   ],
   "source": [
    "\n",
    "type(food)"
   ]
  },
  {
   "cell_type": "code",
   "execution_count": 35,
   "id": "56efdce1",
   "metadata": {},
   "outputs": [
    {
     "data": {
      "text/plain": [
       "624.87"
      ]
     },
     "execution_count": 35,
     "metadata": {},
     "output_type": "execute_result"
    }
   ],
   "source": [
    "total = food+rent\n",
    "total"
   ]
  },
  {
   "cell_type": "code",
   "execution_count": 37,
   "id": "06c911a6",
   "metadata": {},
   "outputs": [
    {
     "data": {
      "text/plain": [
       "'101'"
      ]
     },
     "execution_count": 37,
     "metadata": {},
     "output_type": "execute_result"
    }
   ],
   "source": [
    "format(5,'b')"
   ]
  },
  {
   "cell_type": "markdown",
   "id": "69a681b1",
   "metadata": {},
   "source": [
    "# Exercises:"
   ]
  },
  {
   "cell_type": "code",
   "execution_count": 39,
   "id": "8dae70a7",
   "metadata": {},
   "outputs": [
    {
     "data": {
      "text/plain": [
       "'221'"
      ]
     },
     "execution_count": 39,
     "metadata": {},
     "output_type": "execute_result"
    }
   ],
   "source": [
    "format(145,'o')"
   ]
  },
  {
   "cell_type": "code",
   "execution_count": 40,
   "id": "64b2a30e",
   "metadata": {},
   "outputs": [
    {
     "data": {
      "text/plain": [
       "3.142857142857143"
      ]
     },
     "execution_count": 40,
     "metadata": {},
     "output_type": "execute_result"
    }
   ],
   "source": [
    "pond_radius=84\n",
    "pie=22/7\n",
    "pie\n"
   ]
  },
  {
   "cell_type": "code",
   "execution_count": 45,
   "id": "9b4a2d6c",
   "metadata": {},
   "outputs": [
    {
     "data": {
      "text/plain": [
       "22155.84"
      ]
     },
     "execution_count": 45,
     "metadata": {},
     "output_type": "execute_result"
    }
   ],
   "source": [
    "area=3.14*pond_radius**2\n",
    "area"
   ]
  },
  {
   "cell_type": "code",
   "execution_count": 46,
   "id": "d5b7b70b",
   "metadata": {},
   "outputs": [],
   "source": [
    "per_sqt_meter_water = 1.4"
   ]
  },
  {
   "cell_type": "code",
   "execution_count": 48,
   "id": "d6070ad9",
   "metadata": {},
   "outputs": [],
   "source": [
    "total_water = area * per_sqt_meter_water"
   ]
  },
  {
   "cell_type": "code",
   "execution_count": 49,
   "id": "f95e96c4",
   "metadata": {},
   "outputs": [
    {
     "name": "stdout",
     "output_type": "stream",
     "text": [
      "31018.176\n"
     ]
    }
   ],
   "source": [
    "print(total_water)"
   ]
  },
  {
   "cell_type": "code",
   "execution_count": 50,
   "id": "98758204",
   "metadata": {},
   "outputs": [
    {
     "name": "stdout",
     "output_type": "stream",
     "text": [
      "1\n"
     ]
    }
   ],
   "source": [
    "distance=490\n",
    "time=7*60\n",
    "time\n",
    "speed=distance/time\n",
    "print(round(speed))"
   ]
  },
  {
   "cell_type": "markdown",
   "id": "f41f8b04",
   "metadata": {},
   "source": [
    "# Thanking You...!!!"
   ]
  },
  {
   "cell_type": "code",
   "execution_count": null,
   "id": "22def19f",
   "metadata": {},
   "outputs": [],
   "source": []
  }
 ],
 "metadata": {
  "kernelspec": {
   "display_name": "Python 3 (ipykernel)",
   "language": "python",
   "name": "python3"
  },
  "language_info": {
   "codemirror_mode": {
    "name": "ipython",
    "version": 3
   },
   "file_extension": ".py",
   "mimetype": "text/x-python",
   "name": "python",
   "nbconvert_exporter": "python",
   "pygments_lexer": "ipython3",
   "version": "3.8.10"
  }
 },
 "nbformat": 4,
 "nbformat_minor": 5
}

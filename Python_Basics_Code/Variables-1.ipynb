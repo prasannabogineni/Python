{
 "cells": [
  {
   "cell_type": "code",
   "execution_count": null,
   "id": "93880ed0",
   "metadata": {},
   "outputs": [],
   "source": [
    "can =\"soda\""
   ]
  },
  {
   "cell_type": "code",
   "execution_count": 2,
   "id": "daae0a8a",
   "metadata": {},
   "outputs": [
    {
     "data": {
      "text/plain": [
       "'beans'"
      ]
     },
     "execution_count": 2,
     "metadata": {},
     "output_type": "execute_result"
    }
   ],
   "source": [
    "can=\"beans\"\n",
    "can"
   ]
  },
  {
   "cell_type": "code",
   "execution_count": 3,
   "id": "f461670d",
   "metadata": {},
   "outputs": [
    {
     "data": {
      "text/plain": [
       "str"
      ]
     },
     "execution_count": 3,
     "metadata": {},
     "output_type": "execute_result"
    }
   ],
   "source": [
    "type(can)"
   ]
  },
  {
   "cell_type": "code",
   "execution_count": 6,
   "id": "23ca5ec0",
   "metadata": {},
   "outputs": [],
   "source": [
    "first_name =\"prasanna\"\n",
    "last_name = \"Bogineni\""
   ]
  },
  {
   "cell_type": "code",
   "execution_count": 7,
   "id": "ec0825a6",
   "metadata": {},
   "outputs": [
    {
     "data": {
      "text/plain": [
       "str"
      ]
     },
     "execution_count": 7,
     "metadata": {},
     "output_type": "execute_result"
    }
   ],
   "source": [
    "\n",
    "type(first_name)\n"
   ]
  },
  {
   "cell_type": "code",
   "execution_count": 8,
   "id": "1490411c",
   "metadata": {},
   "outputs": [
    {
     "data": {
      "text/plain": [
       "100"
      ]
     },
     "execution_count": 8,
     "metadata": {},
     "output_type": "execute_result"
    }
   ],
   "source": [
    "pizza=100\n",
    "pizza"
   ]
  },
  {
   "cell_type": "code",
   "execution_count": 9,
   "id": "532b75c7",
   "metadata": {},
   "outputs": [
    {
     "data": {
      "text/plain": [
       "int"
      ]
     },
     "execution_count": 9,
     "metadata": {},
     "output_type": "execute_result"
    }
   ],
   "source": [
    "type(pizza)"
   ]
  },
  {
   "cell_type": "code",
   "execution_count": 10,
   "id": "4ba2e818",
   "metadata": {},
   "outputs": [
    {
     "data": {
      "text/plain": [
       "20.5"
      ]
     },
     "execution_count": 10,
     "metadata": {},
     "output_type": "execute_result"
    }
   ],
   "source": [
    "samosa=20.5\n",
    "samosa"
   ]
  },
  {
   "cell_type": "code",
   "execution_count": 11,
   "id": "62c5886b",
   "metadata": {},
   "outputs": [
    {
     "data": {
      "text/plain": [
       "float"
      ]
     },
     "execution_count": 11,
     "metadata": {},
     "output_type": "execute_result"
    }
   ],
   "source": [
    "type(samosa)"
   ]
  },
  {
   "cell_type": "code",
   "execution_count": 13,
   "id": "c5f607e6",
   "metadata": {},
   "outputs": [],
   "source": [
    "ice_cream=40"
   ]
  },
  {
   "cell_type": "code",
   "execution_count": 14,
   "id": "f3c1907f",
   "metadata": {},
   "outputs": [
    {
     "data": {
      "text/plain": [
       "160.5"
      ]
     },
     "execution_count": 14,
     "metadata": {},
     "output_type": "execute_result"
    }
   ],
   "source": [
    "total=pizza+samosa+ice_cream\n",
    "total"
   ]
  },
  {
   "cell_type": "code",
   "execution_count": 15,
   "id": "b8a5e7b1",
   "metadata": {},
   "outputs": [
    {
     "data": {
      "text/plain": [
       "float"
      ]
     },
     "execution_count": 15,
     "metadata": {},
     "output_type": "execute_result"
    }
   ],
   "source": [
    "type(total)"
   ]
  },
  {
   "cell_type": "code",
   "execution_count": 16,
   "id": "7fec59f1",
   "metadata": {},
   "outputs": [],
   "source": [
    "learn_python=True\n",
    "learn_fortran=False"
   ]
  },
  {
   "cell_type": "code",
   "execution_count": 17,
   "id": "d8d0858d",
   "metadata": {},
   "outputs": [
    {
     "data": {
      "text/plain": [
       "bool"
      ]
     },
     "execution_count": 17,
     "metadata": {},
     "output_type": "execute_result"
    }
   ],
   "source": [
    "type(learn_python)"
   ]
  },
  {
   "cell_type": "code",
   "execution_count": 18,
   "id": "523401ed",
   "metadata": {},
   "outputs": [
    {
     "data": {
      "text/plain": [
       "'jalebi'"
      ]
     },
     "execution_count": 18,
     "metadata": {},
     "output_type": "execute_result"
    }
   ],
   "source": [
    "foo=\"jalebi\"\n",
    "foo"
   ]
  },
  {
   "cell_type": "code",
   "execution_count": 19,
   "id": "0690dad9",
   "metadata": {},
   "outputs": [
    {
     "data": {
      "text/plain": [
       "'jalebi'"
      ]
     },
     "execution_count": 19,
     "metadata": {},
     "output_type": "execute_result"
    }
   ],
   "source": [
    "bar=foo\n",
    "bar"
   ]
  },
  {
   "cell_type": "code",
   "execution_count": 20,
   "id": "b4f7578a",
   "metadata": {},
   "outputs": [
    {
     "data": {
      "text/plain": [
       "1997408097968"
      ]
     },
     "execution_count": 20,
     "metadata": {},
     "output_type": "execute_result"
    }
   ],
   "source": [
    "id(foo)"
   ]
  },
  {
   "cell_type": "code",
   "execution_count": 21,
   "id": "8d865979",
   "metadata": {},
   "outputs": [
    {
     "data": {
      "text/plain": [
       "1997408097968"
      ]
     },
     "execution_count": 21,
     "metadata": {},
     "output_type": "execute_result"
    }
   ],
   "source": [
    "id(bar)"
   ]
  },
  {
   "cell_type": "code",
   "execution_count": 23,
   "id": "0ccec1c1",
   "metadata": {},
   "outputs": [
    {
     "data": {
      "text/plain": [
       "'samosa'"
      ]
     },
     "execution_count": 23,
     "metadata": {},
     "output_type": "execute_result"
    }
   ],
   "source": [
    "bar=\"samosa\"\n",
    "bar"
   ]
  },
  {
   "cell_type": "code",
   "execution_count": 24,
   "id": "0423591b",
   "metadata": {},
   "outputs": [
    {
     "data": {
      "text/plain": [
       "'jalebi'"
      ]
     },
     "execution_count": 24,
     "metadata": {},
     "output_type": "execute_result"
    }
   ],
   "source": [
    "foo"
   ]
  },
  {
   "cell_type": "code",
   "execution_count": 25,
   "id": "60fe9dd0",
   "metadata": {},
   "outputs": [
    {
     "data": {
      "text/plain": [
       "1997379725040"
      ]
     },
     "execution_count": 25,
     "metadata": {},
     "output_type": "execute_result"
    }
   ],
   "source": [
    "id(bar)"
   ]
  },
  {
   "cell_type": "code",
   "execution_count": 27,
   "id": "5067dac4",
   "metadata": {},
   "outputs": [],
   "source": [
    "defi=5"
   ]
  },
  {
   "cell_type": "code",
   "execution_count": 39,
   "id": "6dda9ed0",
   "metadata": {},
   "outputs": [],
   "source": [
    "_abcABC1234=\"prassu\"\n"
   ]
  },
  {
   "cell_type": "markdown",
   "id": "093d7759",
   "metadata": {},
   "source": [
    "# Exercise"
   ]
  },
  {
   "cell_type": "code",
   "execution_count": 40,
   "id": "160566c4",
   "metadata": {},
   "outputs": [],
   "source": [
    "pi=22/7"
   ]
  },
  {
   "cell_type": "code",
   "execution_count": 41,
   "id": "a12316ac",
   "metadata": {},
   "outputs": [
    {
     "data": {
      "text/plain": [
       "float"
      ]
     },
     "execution_count": 41,
     "metadata": {},
     "output_type": "execute_result"
    }
   ],
   "source": [
    "type(pi)"
   ]
  },
  {
   "cell_type": "code",
   "execution_count": 43,
   "id": "611f0823",
   "metadata": {},
   "outputs": [
    {
     "ename": "SyntaxError",
     "evalue": "invalid syntax (1821374307.py, line 1)",
     "output_type": "error",
     "traceback": [
      "\u001b[1;36m  Input \u001b[1;32mIn [43]\u001b[1;36m\u001b[0m\n\u001b[1;33m    for=4\u001b[0m\n\u001b[1;37m       ^\u001b[0m\n\u001b[1;31mSyntaxError\u001b[0m\u001b[1;31m:\u001b[0m invalid syntax\n"
     ]
    }
   ],
   "source": [
    "for=4\n",
    "#it throws error, because for is a keyword, keywords can not be used as variables"
   ]
  },
  {
   "cell_type": "code",
   "execution_count": 44,
   "id": "cb1d06b3",
   "metadata": {},
   "outputs": [],
   "source": [
    "PrincipalAmount=1940000\n",
    "RateOfInterest=7\n",
    "time=3"
   ]
  },
  {
   "cell_type": "code",
   "execution_count": 46,
   "id": "9bf35bd9",
   "metadata": {},
   "outputs": [
    {
     "name": "stdout",
     "output_type": "stream",
     "text": [
      "407400.0\n"
     ]
    }
   ],
   "source": [
    "SimpleInterest=(PrincipalAmount*RateOfInterest*time)/100\n",
    "print(SimpleInterest)"
   ]
  },
  {
   "cell_type": "code",
   "execution_count": 47,
   "id": "a20f0083",
   "metadata": {},
   "outputs": [
    {
     "name": "stdout",
     "output_type": "stream",
     "text": [
      "2347400.0\n"
     ]
    }
   ],
   "source": [
    "#total amount after including interest\n",
    "total_amount=PrincipalAmount+SimpleInterest\n",
    "print(total_amount)"
   ]
  },
  {
   "cell_type": "code",
   "execution_count": 48,
   "id": "96373e37",
   "metadata": {},
   "outputs": [
    {
     "name": "stdout",
     "output_type": "stream",
     "text": [
      "<class 'float'>\n"
     ]
    }
   ],
   "source": [
    "print(type(SimpleInterest))"
   ]
  },
  {
   "cell_type": "markdown",
   "id": "2c0f72f9",
   "metadata": {},
   "source": [
    "# Thanking You !!!!"
   ]
  },
  {
   "cell_type": "code",
   "execution_count": null,
   "id": "74b0bfa9",
   "metadata": {},
   "outputs": [],
   "source": []
  }
 ],
 "metadata": {
  "kernelspec": {
   "display_name": "Python 3 (ipykernel)",
   "language": "python",
   "name": "python3"
  },
  "language_info": {
   "codemirror_mode": {
    "name": "ipython",
    "version": 3
   },
   "file_extension": ".py",
   "mimetype": "text/x-python",
   "name": "python",
   "nbconvert_exporter": "python",
   "pygments_lexer": "ipython3",
   "version": "3.8.10"
  }
 },
 "nbformat": 4,
 "nbformat_minor": 5
}

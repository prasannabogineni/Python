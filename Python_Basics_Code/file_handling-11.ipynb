{
 "cells": [
  {
   "cell_type": "code",
   "execution_count": 3,
   "id": "ca0fae3d",
   "metadata": {},
   "outputs": [
    {
     "name": "stdout",
     "output_type": "stream",
     "text": [
      "rohit ==> Min: 9, Max: 140, Avg: 100.8\n",
      "shakib ==> Min: 56, Max: 102, Avg: 77.0\n",
      "babar ==> Min: 5, Max: 120, Avg: 58.6\n"
     ]
    }
   ],
   "source": [
    "player_scores = {}\n",
    "with open(\"C:\\\\Learn_Python\\\\file_handling\\\\scores.csv\", \"r\") as f:\n",
    "    for line in f:\n",
    "        player, score = line.strip().split(',')\n",
    "        score = int(score)\n",
    "        if player in player_scores:\n",
    "            player_scores[player].append(score)\n",
    "        else:\n",
    "            player_scores[player] = [score]\n",
    "    for player, score_list in player_scores.items():\n",
    "        min_score = min(score_list)\n",
    "        max_score = max(score_list)\n",
    "        avg_score = sum(score_list)/len(score_list)\n",
    "        print(f\"{player} ==> Min: {min_score}, Max: {max_score}, Avg: {avg_score}\")\n"
   ]
  },
  {
   "cell_type": "markdown",
   "id": "9e8e1b1a",
   "metadata": {},
   "source": [
    "# Exercises:"
   ]
  },
  {
   "cell_type": "markdown",
   "id": "085ccaae",
   "metadata": {},
   "source": [
    "1. student_marks.csv contains the marks and other details for some students. Write a python program to:\n",
    "\n",
    "* Open the file in read mode\n",
    "\n",
    "* Create a dictionary from the given data\n",
    "\n",
    "* Add a new field to the dictionary `total_marks` and store the total marks of the students.\n",
    "\n",
    "* Add a new field to the dictionary `Average` and store the average marks of the students.\n",
    "\n",
    "* Create a new file and write this information to the new file\n",
    "   (https://www.kaggle.com/arunkumar413/student-marks)"
   ]
  },
  {
   "cell_type": "code",
   "execution_count": 5,
   "id": "3a17f761",
   "metadata": {},
   "outputs": [],
   "source": [
    "f = open('student_marks.csv', 'r')"
   ]
  },
  {
   "cell_type": "code",
   "execution_count": 6,
   "id": "70cdaf21",
   "metadata": {},
   "outputs": [
    {
     "data": {
      "text/plain": [
       "',Gender,DOB,Maths,Physics,Chemistry,English,Biology,Economics,History,Civics\\nJohn,M,05/04/1988,55,45,56,87,21,52,89,65\\nSuresh,M,4/5/1987,75,55,,64,90,61,58,2\\nRamesh,M,25/5/1989,25,54,89,76,95,87,56,74\\nJessica,F,12/8/1990,78,55,86,63,54,89,75,45\\nJennifer,F,2/9/1989,58,96,78,46,96,77,83,53'"
      ]
     },
     "execution_count": 6,
     "metadata": {},
     "output_type": "execute_result"
    }
   ],
   "source": [
    "f.read()"
   ]
  },
  {
   "cell_type": "code",
   "execution_count": 9,
   "id": "adf2675e",
   "metadata": {},
   "outputs": [
    {
     "data": {
      "text/plain": [
       "',Gender,DOB,Maths,Physics,Chemistry,English,Biology,Economics,History,Civics\\n'"
      ]
     },
     "execution_count": 9,
     "metadata": {},
     "output_type": "execute_result"
    }
   ],
   "source": [
    "# creating dictionary\n",
    "f.seek(0)  #goto start again\n",
    "d = {}\n",
    "keys = f.readline()\n",
    "keys"
   ]
  },
  {
   "cell_type": "code",
   "execution_count": 10,
   "id": "4cb5e001",
   "metadata": {},
   "outputs": [
    {
     "data": {
      "text/plain": [
       "['',\n",
       " 'Gender',\n",
       " 'DOB',\n",
       " 'Maths',\n",
       " 'Physics',\n",
       " 'Chemistry',\n",
       " 'English',\n",
       " 'Biology',\n",
       " 'Economics',\n",
       " 'History',\n",
       " 'Civics\\n']"
      ]
     },
     "execution_count": 10,
     "metadata": {},
     "output_type": "execute_result"
    }
   ],
   "source": [
    "keys = keys.split(',')\n",
    "keys"
   ]
  },
  {
   "cell_type": "code",
   "execution_count": 11,
   "id": "ce467bac",
   "metadata": {},
   "outputs": [
    {
     "name": "stdout",
     "output_type": "stream",
     "text": [
      "{'': [], 'Gender': [], 'DOB': [], 'Maths': [], 'Physics': [], 'Chemistry': [], 'English': [], 'Biology': [], 'Economics': [], 'History': [], 'Civics\\n': []}\n"
     ]
    }
   ],
   "source": [
    "# intializing the dictionary\n",
    "for key in keys:\n",
    "    d[key] = []\n",
    "print(d)"
   ]
  },
  {
   "cell_type": "code",
   "execution_count": 12,
   "id": "aefeb9fc",
   "metadata": {},
   "outputs": [
    {
     "name": "stdout",
     "output_type": "stream",
     "text": [
      "{'': ['John', 'Suresh', 'Ramesh', 'Jessica', 'Jennifer'], 'Gender': ['M', 'M', 'M', 'F', 'F'], 'DOB': ['05/04/1988', '4/5/1987', '25/5/1989', '12/8/1990', '2/9/1989'], 'Maths': ['55', '75', '25', '78', '58'], 'Physics': ['45', '55', '54', '55', '96'], 'Chemistry': ['56', '', '89', '86', '78'], 'English': ['87', '64', '76', '63', '46'], 'Biology': ['21', '90', '95', '54', '96'], 'Economics': ['52', '61', '87', '89', '77'], 'History': ['89', '58', '56', '75', '83'], 'Civics\\n': ['65\\n', '2\\n', '74\\n', '45\\n', '53']}\n"
     ]
    }
   ],
   "source": [
    "# Adding data to the dictionary\n",
    "for line in f.readlines():\n",
    "    data = line.split(',')\n",
    "    j=0\n",
    "    for i in d:\n",
    "        d[i].append(data[j])\n",
    "        j += 1\n",
    "print(d)\n",
    "        "
   ]
  },
  {
   "cell_type": "code",
   "execution_count": 13,
   "id": "9fa9446a",
   "metadata": {},
   "outputs": [
    {
     "name": "stdout",
     "output_type": "stream",
     "text": [
      "{'': ['John', 'Suresh', 'Ramesh', 'Jessica', 'Jennifer'],\n",
      " 'Biology': ['21', '90', '95', '54', '96'],\n",
      " 'Chemistry': ['56', '', '89', '86', '78'],\n",
      " 'Civics\\n': ['65\\n', '2\\n', '74\\n', '45\\n', '53'],\n",
      " 'DOB': ['05/04/1988', '4/5/1987', '25/5/1989', '12/8/1990', '2/9/1989'],\n",
      " 'Economics': ['52', '61', '87', '89', '77'],\n",
      " 'English': ['87', '64', '76', '63', '46'],\n",
      " 'Gender': ['M', 'M', 'M', 'F', 'F'],\n",
      " 'History': ['89', '58', '56', '75', '83'],\n",
      " 'Maths': ['55', '75', '25', '78', '58'],\n",
      " 'Physics': ['45', '55', '54', '55', '96']}\n"
     ]
    }
   ],
   "source": [
    "import pprint\n",
    "pprint.pprint(d)"
   ]
  },
  {
   "cell_type": "code",
   "execution_count": 14,
   "id": "7fdffd0c",
   "metadata": {},
   "outputs": [
    {
     "data": {
      "text/plain": [
       "dict_values([['John', 'Suresh', 'Ramesh', 'Jessica', 'Jennifer'], ['M', 'M', 'M', 'F', 'F'], ['05/04/1988', '4/5/1987', '25/5/1989', '12/8/1990', '2/9/1989'], ['55', '75', '25', '78', '58'], ['45', '55', '54', '55', '96'], ['56', '', '89', '86', '78'], ['87', '64', '76', '63', '46'], ['21', '90', '95', '54', '96'], ['52', '61', '87', '89', '77'], ['89', '58', '56', '75', '83'], ['65\\n', '2\\n', '74\\n', '45\\n', '53']])"
      ]
     },
     "execution_count": 14,
     "metadata": {},
     "output_type": "execute_result"
    }
   ],
   "source": [
    "d.values()"
   ]
  },
  {
   "cell_type": "code",
   "execution_count": 15,
   "id": "b51cb73b",
   "metadata": {},
   "outputs": [
    {
     "name": "stdout",
     "output_type": "stream",
     "text": [
      "[940, 810, 1112, 1090, 1174]\n"
     ]
    }
   ],
   "source": [
    "# Calculating the total marks\n",
    "d['Total Marks'] = [0]*5\n",
    "for i in range(5):\n",
    "    for key in d:\n",
    "        try:\n",
    "            d['Total Marks'][i] += int(d[key][i])\n",
    "        except:\n",
    "            pass\n",
    "print(d['Total Marks'])"
   ]
  },
  {
   "cell_type": "code",
   "execution_count": 16,
   "id": "77e9c299",
   "metadata": {},
   "outputs": [
    {
     "data": {
      "text/plain": [
       "dict_keys(['', 'Gender', 'DOB', 'Maths', 'Physics', 'Chemistry', 'English', 'Biology', 'Economics', 'History', 'Civics\\n', 'Total Marks'])"
      ]
     },
     "execution_count": 16,
     "metadata": {},
     "output_type": "execute_result"
    }
   ],
   "source": [
    "d.keys()"
   ]
  },
  {
   "cell_type": "code",
   "execution_count": 17,
   "id": "ad57bb04",
   "metadata": {},
   "outputs": [
    {
     "data": {
      "text/plain": [
       "dict_values([['John', 'Suresh', 'Ramesh', 'Jessica', 'Jennifer'], ['M', 'M', 'M', 'F', 'F'], ['05/04/1988', '4/5/1987', '25/5/1989', '12/8/1990', '2/9/1989'], ['55', '75', '25', '78', '58'], ['45', '55', '54', '55', '96'], ['56', '', '89', '86', '78'], ['87', '64', '76', '63', '46'], ['21', '90', '95', '54', '96'], ['52', '61', '87', '89', '77'], ['89', '58', '56', '75', '83'], ['65\\n', '2\\n', '74\\n', '45\\n', '53'], [940, 810, 1112, 1090, 1174]])"
      ]
     },
     "execution_count": 17,
     "metadata": {},
     "output_type": "execute_result"
    }
   ],
   "source": [
    "d.values()"
   ]
  },
  {
   "cell_type": "markdown",
   "id": "813ea643",
   "metadata": {},
   "source": [
    "# Thanking YOU!!!!!!"
   ]
  },
  {
   "cell_type": "code",
   "execution_count": null,
   "id": "30734ea1",
   "metadata": {},
   "outputs": [],
   "source": []
  }
 ],
 "metadata": {
  "kernelspec": {
   "display_name": "Python 3 (ipykernel)",
   "language": "python",
   "name": "python3"
  },
  "language_info": {
   "codemirror_mode": {
    "name": "ipython",
    "version": 3
   },
   "file_extension": ".py",
   "mimetype": "text/x-python",
   "name": "python",
   "nbconvert_exporter": "python",
   "pygments_lexer": "ipython3",
   "version": "3.8.10"
  }
 },
 "nbformat": 4,
 "nbformat_minor": 5
}

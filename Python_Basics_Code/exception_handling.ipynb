{
 "cells": [
  {
   "cell_type": "code",
   "execution_count": 1,
   "id": "b0dd0e6f",
   "metadata": {},
   "outputs": [
    {
     "name": "stdout",
     "output_type": "stream",
     "text": [
      "Enter number 1: 4\n",
      "Enter number 2: 2\n",
      "Exception type:  TypeError\n",
      "Exception occurred: unsupported operand type(s) for /: 'str' and 'int'\n",
      "None\n"
     ]
    }
   ],
   "source": [
    "if __name__ == \"__main__\":\n",
    "    x = input(\"Enter number 1: \")\n",
    "    y = input(\"Enter number 2: \")\n",
    "    try:\n",
    "        z = x / int(y)\n",
    "\n",
    "    except Exception as e:\n",
    "        print(\"Exception type: \", type(e).__name__)\n",
    "        print(\"Exception occurred:\", e)\n",
    "        z = None\n",
    "\n",
    "    finally:\n",
    "        print(z)"
   ]
  },
  {
   "cell_type": "markdown",
   "id": "ffd3a1c3",
   "metadata": {},
   "source": [
    "# Exercises:"
   ]
  },
  {
   "cell_type": "markdown",
   "id": "c648ede8",
   "metadata": {},
   "source": [
    "# You have the following python code.\n",
    "lst = [int(x) for x in input().split()]\n",
    "i = int(input(\"Enter Index: \")\n",
    "print(lst[i])\n",
    "Use Exception Handling to handle the exception which will occur in this program."
   ]
  },
  {
   "cell_type": "code",
   "execution_count": 2,
   "id": "dcdca863",
   "metadata": {},
   "outputs": [
    {
     "ename": "SyntaxError",
     "evalue": "invalid syntax (823615032.py, line 3)",
     "output_type": "error",
     "traceback": [
      "\u001b[1;36m  Input \u001b[1;32mIn [2]\u001b[1;36m\u001b[0m\n\u001b[1;33m    print(lst[i])\u001b[0m\n\u001b[1;37m    ^\u001b[0m\n\u001b[1;31mSyntaxError\u001b[0m\u001b[1;31m:\u001b[0m invalid syntax\n"
     ]
    }
   ],
   "source": [
    "lst = [int(x) for x in input().split()]\n",
    "i = int(input(\"Enter Index: \")\n",
    "print(lst[i])"
   ]
  },
  {
   "cell_type": "code",
   "execution_count": 13,
   "id": "0e073b1e",
   "metadata": {},
   "outputs": [
    {
     "name": "stdout",
     "output_type": "stream",
     "text": [
      "1 2 3 4 5 6 7 8\n"
     ]
    }
   ],
   "source": [
    "lst = [int(x) for x in input().split()]"
   ]
  },
  {
   "cell_type": "code",
   "execution_count": 15,
   "id": "a9af8623",
   "metadata": {},
   "outputs": [
    {
     "name": "stdout",
     "output_type": "stream",
     "text": [
      "Enter Index: 9\n"
     ]
    },
    {
     "ename": "IndexError",
     "evalue": "list index out of range",
     "output_type": "error",
     "traceback": [
      "\u001b[1;31m---------------------------------------------------------------------------\u001b[0m",
      "\u001b[1;31mIndexError\u001b[0m                                Traceback (most recent call last)",
      "Input \u001b[1;32mIn [15]\u001b[0m, in \u001b[0;36m<cell line: 2>\u001b[1;34m()\u001b[0m\n\u001b[0;32m      1\u001b[0m i \u001b[38;5;241m=\u001b[39m \u001b[38;5;28mint\u001b[39m(\u001b[38;5;28minput\u001b[39m(\u001b[38;5;124m\"\u001b[39m\u001b[38;5;124mEnter Index: \u001b[39m\u001b[38;5;124m\"\u001b[39m))\n\u001b[1;32m----> 2\u001b[0m \u001b[38;5;28mprint\u001b[39m(\u001b[43mlst\u001b[49m\u001b[43m[\u001b[49m\u001b[43mi\u001b[49m\u001b[43m]\u001b[49m)\n",
      "\u001b[1;31mIndexError\u001b[0m: list index out of range"
     ]
    }
   ],
   "source": [
    "i = int(input(\"Enter Index: \"))\n",
    "print(lst[i])"
   ]
  },
  {
   "cell_type": "code",
   "execution_count": 17,
   "id": "5ddc6900",
   "metadata": {},
   "outputs": [
    {
     "name": "stdout",
     "output_type": "stream",
     "text": [
      "Enter Index: 10\n",
      "Index is not valid\n"
     ]
    }
   ],
   "source": [
    "try:\n",
    "    i = int(input(\"Enter Index: \"))\n",
    "    print(lst[i])\n",
    "\n",
    "except:\n",
    "    print(\"Index is not valid\")"
   ]
  },
  {
   "cell_type": "markdown",
   "id": "f8d079bc",
   "metadata": {},
   "source": [
    "3. You have certain employee records as a list of dictionaries. The dictionary contains the following information.\n",
    "Employee = {“id”: id, “first_name”: fname, “middle_name”: mname, “last_name”: lname}\n",
    "\n",
    "You are using this code to print the full name of each employee:\n",
    "\n",
    "for employee in employees:\n",
    "    full_name  = employee[‘first_name’] + employee[‘middle_name’] + employee[‘last_name’]\n",
    "    print(full_name)\n",
    "But some employees don’t have a middle_name, so the middle_name key will not be present in the dictionary. Use Exception handling to correctly print the full names of your employees."
   ]
  },
  {
   "cell_type": "code",
   "execution_count": 18,
   "id": "76feaece",
   "metadata": {},
   "outputs": [],
   "source": [
    "employees = [\n",
    "    {\"id\": 1, \"first_name\": \"Karan \", \"middle_name\": \"Rama \", \"last_name\": \"Reddy\"},\n",
    "    {\"id\": 2, \"first_name\": \"Alex \", \"last_name\": \"Gorge\"},\n",
    "    {\"id\": 3, \"first_name\": \"Alice \", \"middle_name\": \"M \", \"last_name\": \"Warner\"},\n",
    "]"
   ]
  },
  {
   "cell_type": "code",
   "execution_count": 19,
   "id": "c34e81ce",
   "metadata": {},
   "outputs": [
    {
     "name": "stdout",
     "output_type": "stream",
     "text": [
      "Karan Rama Reddy\n"
     ]
    },
    {
     "ename": "KeyError",
     "evalue": "'middle_name'",
     "output_type": "error",
     "traceback": [
      "\u001b[1;31m---------------------------------------------------------------------------\u001b[0m",
      "\u001b[1;31mKeyError\u001b[0m                                  Traceback (most recent call last)",
      "Input \u001b[1;32mIn [19]\u001b[0m, in \u001b[0;36m<cell line: 1>\u001b[1;34m()\u001b[0m\n\u001b[0;32m      1\u001b[0m \u001b[38;5;28;01mfor\u001b[39;00m employee \u001b[38;5;129;01min\u001b[39;00m employees:\n\u001b[1;32m----> 2\u001b[0m     full_name \u001b[38;5;241m=\u001b[39m employee[\u001b[38;5;124m'\u001b[39m\u001b[38;5;124mfirst_name\u001b[39m\u001b[38;5;124m'\u001b[39m] \u001b[38;5;241m+\u001b[39m \u001b[43memployee\u001b[49m\u001b[43m[\u001b[49m\u001b[38;5;124;43m'\u001b[39;49m\u001b[38;5;124;43mmiddle_name\u001b[39;49m\u001b[38;5;124;43m'\u001b[39;49m\u001b[43m]\u001b[49m \u001b[38;5;241m+\u001b[39m employee[\u001b[38;5;124m'\u001b[39m\u001b[38;5;124mlast_name\u001b[39m\u001b[38;5;124m'\u001b[39m]\n\u001b[0;32m      3\u001b[0m     \u001b[38;5;28mprint\u001b[39m(full_name)\n",
      "\u001b[1;31mKeyError\u001b[0m: 'middle_name'"
     ]
    }
   ],
   "source": [
    "for employee in employees:\n",
    "    full_name = employee['first_name'] + employee['middle_name'] + employee['last_name']\n",
    "    print(full_name)"
   ]
  },
  {
   "cell_type": "code",
   "execution_count": 20,
   "id": "337d3669",
   "metadata": {},
   "outputs": [
    {
     "name": "stdout",
     "output_type": "stream",
     "text": [
      "Karan Rama Reddy\n",
      "Alex Gorge\n",
      "Alice M Warner\n"
     ]
    }
   ],
   "source": [
    "for employee in employees:\n",
    "    try:\n",
    "        full_name = employee['first_name'] + employee['middle_name'] + employee['last_name']\n",
    "    except KeyError:\n",
    "        full_name = employee['first_name'] + employee['last_name']\n",
    "    finally:\n",
    "        print(full_name)"
   ]
  },
  {
   "cell_type": "markdown",
   "id": "41e6f00e",
   "metadata": {},
   "source": [
    "# Thanking you!!!!!"
   ]
  },
  {
   "cell_type": "code",
   "execution_count": null,
   "id": "1c6ee3fd",
   "metadata": {},
   "outputs": [],
   "source": []
  }
 ],
 "metadata": {
  "kernelspec": {
   "display_name": "Python 3 (ipykernel)",
   "language": "python",
   "name": "python3"
  },
  "language_info": {
   "codemirror_mode": {
    "name": "ipython",
    "version": 3
   },
   "file_extension": ".py",
   "mimetype": "text/x-python",
   "name": "python",
   "nbconvert_exporter": "python",
   "pygments_lexer": "ipython3",
   "version": "3.8.10"
  }
 },
 "nbformat": 4,
 "nbformat_minor": 5
}

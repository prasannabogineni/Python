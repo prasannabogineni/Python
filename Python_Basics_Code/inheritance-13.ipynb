{
 "cells": [
  {
   "cell_type": "markdown",
   "id": "65256f5c",
   "metadata": {},
   "source": [
    "1. Create inheritance using MobilePhone as base class and Apple & Samsung as child class\n",
    "\n",
    "    1. The base class should have properties:\n",
    "\n",
    "        1. ScreenType = Touch Screen\n",
    "\n",
    "        2. NetworkType = 4G/5G\n",
    "\n",
    "        3. DualSim = True or False\n",
    "\n",
    "        4. FrontCamera = (5MP/8MP/12MP/16MP)\n",
    "\n",
    "        5. rearCamera = (8MP/12MP/16MP/32MP/48MP)\n",
    "\n",
    "        6. RAM = (2GB/3GB/4GB)\n",
    "\n",
    "        7. Storage = (16GB/32GB/64GB)\n",
    "\n",
    "2. Create basic mobile phone functionalities in the classes like: make_call, recieve_call, take_a_picture, etc.\n",
    "\n",
    "3. Use super() constructor for calling parent class’s constructor\n",
    "\n",
    "4. Make some objects of Apple class with different properties\n",
    "\n",
    "5. Make some objects of Samsung class with different properties\n",
    " "
   ]
  },
  {
   "cell_type": "code",
   "execution_count": 1,
   "id": "6aa4f952",
   "metadata": {},
   "outputs": [],
   "source": [
    "# Creating the base class\n",
    "\n",
    "class MobilePhone:\n",
    "\n",
    "    def __init__(self, screenType, networkType, dualSim, frontCamera, camera, RAM, storage):\n",
    "        self.screenType = screenType\n",
    "        self.networkType = networkType\n",
    "        self.dualSim = dualSim\n",
    "        self.frontCamera = frontCamera\n",
    "        self.camera = camera\n",
    "        self.RAM = RAM\n",
    "        self.storage = storage\n",
    "\n",
    "    def make_call(self):\n",
    "        pass\n",
    "\n",
    "    def recieve_call(self):\n",
    "        pass\n",
    "\n",
    "    def take_a_picture(self):\n",
    "        pass\n"
   ]
  },
  {
   "cell_type": "code",
   "execution_count": 2,
   "id": "7d1daead",
   "metadata": {},
   "outputs": [],
   "source": [
    "# Let's create Apple Class\n",
    "class Apple(MobilePhone):\n",
    "\n",
    "    def __init__(self, productName, networkType, RAM, storage):\n",
    "        self.productName = productName\n",
    "        super().__init__(screenType='Touch Screen',\n",
    "                         camera=\"12MP\",\n",
    "                         frontCamera=\"8MP\",\n",
    "                         dualSim=False,\n",
    "                         networkType=networkType,\n",
    "                         RAM=RAM,\n",
    "                         storage=storage)\n",
    "        \n",
    "    def make_call(self):\n",
    "        print(f\"Making a call from {self.productName} Apple mobile phone.\")\n",
    "\n",
    "    def recieve_call(self):\n",
    "        print(f\"Recieving a call on {self.productName} Apple mobile phone.\")\n",
    "\n",
    "    def take_a_picture(self):\n",
    "        return f\"Taking Picture on {self.productName} with {self.camera} camera\"\n",
    "\n",
    "    def get_info(self):\n",
    "        return f\"\"\"Product Name: {self.productName}\n",
    "        Camera: {self.camera}\n",
    "        Network Type: {self.networkType}\n",
    "        ...\n",
    "        \"\"\"\n",
    "        # etc\n",
    "\n",
    "\n",
    "    def __str__(self) -> str:\n",
    "        return f\"Apple({self.productName}, {self.storage}, ...)\""
   ]
  },
  {
   "cell_type": "code",
   "execution_count": 3,
   "id": "744149e8",
   "metadata": {},
   "outputs": [],
   "source": [
    "# creating samsung Class\n",
    "class Samsung(MobilePhone):\n",
    "\n",
    "    def __init__(self, productName, networkType, dualSim, frontCamera, camera, RAM, storage):\n",
    "        self.productName = productName\n",
    "        super().__init__(screenType='Touch Screen',\n",
    "                         camera=camera,\n",
    "                         frontCamera=frontCamera,\n",
    "                         dualSim=dualSim,\n",
    "                         networkType=networkType,\n",
    "                         RAM=RAM,\n",
    "                         storage=storage)\n",
    "        \n",
    "    def make_call(self):\n",
    "        print(f\"Making a call from {self.productName} Samsung mobile phone.\")\n",
    "\n",
    "    def recieve_call(self):\n",
    "        print(f\"Recieving a call on {self.productName} Samsung mobile phone.\")\n",
    "\n",
    "    def take_a_picture(self):\n",
    "        return f\"Taking Picture on {self.productName} with {self.camera} camera\"\n",
    "\n",
    "    def get_info(self):\n",
    "        return f\"\"\"Product Name: {self.productName}\n",
    "        Camera: {self.camera}\n",
    "        Network Type: {self.networkType}\n",
    "        ...\n",
    "        \"\"\"\n",
    "        # etc\n",
    "\n",
    "\n",
    "    def __str__(self) -> str:\n",
    "        return f\"Samsung({self.productName}, {self.storage}, ...)\""
   ]
  },
  {
   "cell_type": "markdown",
   "id": "d913b3c2",
   "metadata": {},
   "source": [
    "Creating some objects"
   ]
  },
  {
   "cell_type": "code",
   "execution_count": 4,
   "id": "09de8e06",
   "metadata": {},
   "outputs": [],
   "source": [
    "# apple phones\n",
    "\n",
    "apple1 = Apple(\"Iphone6\", \"4G\", \"4GB\", \"64GB\")\n",
    "apple2 = Apple(\"Iphone8\", \"5G\", \"6GB\", \"128GB\")"
   ]
  },
  {
   "cell_type": "code",
   "execution_count": 5,
   "id": "e0e20049",
   "metadata": {},
   "outputs": [],
   "source": [
    "# Samsung Phones\n",
    "\n",
    "samsung1 = Samsung(\"Samsung1\", \"4G\", True, \"16MP\", \"32MP\", \"4GB\", \"64GB\")\n",
    "samsung2 = Samsung(\"Samsung2\", \"3G\", True, \"8MP\", \"16MP\", \"3GB\", \"16GB\")"
   ]
  },
  {
   "cell_type": "code",
   "execution_count": 6,
   "id": "f1c80c63",
   "metadata": {},
   "outputs": [
    {
     "name": "stdout",
     "output_type": "stream",
     "text": [
      "Apple(Iphone6, 64GB, ...)\n"
     ]
    }
   ],
   "source": [
    "print(apple1)"
   ]
  },
  {
   "cell_type": "code",
   "execution_count": 7,
   "id": "312f55af",
   "metadata": {},
   "outputs": [
    {
     "name": "stdout",
     "output_type": "stream",
     "text": [
      "Making a call from Iphone8 Apple mobile phone.\n"
     ]
    }
   ],
   "source": [
    "apple2.make_call()"
   ]
  },
  {
   "cell_type": "code",
   "execution_count": 8,
   "id": "2c71ce94",
   "metadata": {},
   "outputs": [
    {
     "name": "stdout",
     "output_type": "stream",
     "text": [
      "Recieving a call on Samsung1 Samsung mobile phone.\n"
     ]
    }
   ],
   "source": [
    "samsung1.recieve_call()"
   ]
  },
  {
   "cell_type": "code",
   "execution_count": 9,
   "id": "8ad439d8",
   "metadata": {},
   "outputs": [
    {
     "data": {
      "text/plain": [
       "'Taking Picture on Iphone6 with 12MP camera'"
      ]
     },
     "execution_count": 9,
     "metadata": {},
     "output_type": "execute_result"
    }
   ],
   "source": [
    "apple1.take_a_picture()"
   ]
  },
  {
   "cell_type": "code",
   "execution_count": 11,
   "id": "76704537",
   "metadata": {},
   "outputs": [
    {
     "name": "stdout",
     "output_type": "stream",
     "text": [
      "Product Name: Samsung2\n",
      "        Camera: 16MP\n",
      "        Network Type: 3G\n",
      "        ...\n",
      "        \n"
     ]
    }
   ],
   "source": [
    "print(samsung2.get_info())"
   ]
  },
  {
   "cell_type": "code",
   "execution_count": null,
   "id": "61be008b",
   "metadata": {},
   "outputs": [],
   "source": []
  }
 ],
 "metadata": {
  "kernelspec": {
   "display_name": "Python 3 (ipykernel)",
   "language": "python",
   "name": "python3"
  },
  "language_info": {
   "codemirror_mode": {
    "name": "ipython",
    "version": 3
   },
   "file_extension": ".py",
   "mimetype": "text/x-python",
   "name": "python",
   "nbconvert_exporter": "python",
   "pygments_lexer": "ipython3",
   "version": "3.8.10"
  }
 },
 "nbformat": 4,
 "nbformat_minor": 5
}

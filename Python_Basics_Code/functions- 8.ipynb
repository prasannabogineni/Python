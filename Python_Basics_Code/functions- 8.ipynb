{
 "cells": [
  {
   "cell_type": "markdown",
   "id": "88ef9106",
   "metadata": {},
   "source": [
    "# Exercises:"
   ]
  },
  {
   "cell_type": "markdown",
   "id": "cde8fda0",
   "metadata": {},
   "source": [
    " ### 1. Write a python function to check if any given number is a prime number and odd number?"
   ]
  },
  {
   "cell_type": "code",
   "execution_count": 18,
   "id": "3e0491f5",
   "metadata": {},
   "outputs": [],
   "source": [
    "# creating the function\n",
    "\n",
    "def prime_and_odd(num):\n",
    "    \n",
    "    # checking for even numbers\n",
    "    if num%2 == 0:\n",
    "        return False\n",
    "    \n",
    "    if num < 2:\n",
    "        return False\n",
    "    \n",
    "     # checking for prime numbers\n",
    "    for i in range(2,num//2):\n",
    "        if num%i == 0:\n",
    "             return False\n",
    "            \n",
    "    return True\n",
    "    \n"
   ]
  },
  {
   "cell_type": "code",
   "execution_count": 19,
   "id": "31137e68",
   "metadata": {},
   "outputs": [
    {
     "data": {
      "text/plain": [
       "False"
      ]
     },
     "execution_count": 19,
     "metadata": {},
     "output_type": "execute_result"
    }
   ],
   "source": [
    "# calling the function\n",
    "\n",
    "prime_and_odd(1)"
   ]
  },
  {
   "cell_type": "code",
   "execution_count": 20,
   "id": "734b873d",
   "metadata": {},
   "outputs": [
    {
     "data": {
      "text/plain": [
       "False"
      ]
     },
     "execution_count": 20,
     "metadata": {},
     "output_type": "execute_result"
    }
   ],
   "source": [
    "prime_and_odd(2)"
   ]
  },
  {
   "cell_type": "code",
   "execution_count": 24,
   "id": "aa2b4f0c",
   "metadata": {},
   "outputs": [
    {
     "data": {
      "text/plain": [
       "True"
      ]
     },
     "execution_count": 24,
     "metadata": {},
     "output_type": "execute_result"
    }
   ],
   "source": [
    "prime_and_odd(3)"
   ]
  },
  {
   "cell_type": "code",
   "execution_count": 22,
   "id": "1286e06e",
   "metadata": {},
   "outputs": [
    {
     "name": "stdout",
     "output_type": "stream",
     "text": [
      "1 False\n",
      "2 False\n",
      "3 True\n",
      "4 False\n",
      "5 True\n",
      "6 False\n",
      "7 True\n",
      "8 False\n",
      "9 False\n",
      "10 False\n"
     ]
    }
   ],
   "source": [
    "# checking first 10 numbers\n",
    "for i in range(1, 11):\n",
    "    print(i, prime_and_odd(i))"
   ]
  },
  {
   "cell_type": "markdown",
   "id": "6ef5199e",
   "metadata": {},
   "source": [
    "### 2. Write a python function that will take n as input and print the pattern of n rows. If the n is even, then print it flipped.\n",
    "\n",
    "#Example:\n",
    "\n",
    "            n=3\n",
    "            *\n",
    "            * *\n",
    "            * * *\n",
    "\n",
    "            n=4\n",
    "             * * * *\n",
    "             * * *\n",
    "             * *\n",
    "             *"
   ]
  },
  {
   "cell_type": "code",
   "execution_count": 25,
   "id": "37a8ec4d",
   "metadata": {},
   "outputs": [],
   "source": [
    "# creating function for checking even/ odd\n",
    "def iseven(num):\n",
    "    if num%2 == 0:\n",
    "        return True\n",
    "    else:\n",
    "        return False\n",
    "    "
   ]
  },
  {
   "cell_type": "code",
   "execution_count": 36,
   "id": "86e21387",
   "metadata": {},
   "outputs": [],
   "source": [
    "def print_awesome_pattern(n):\n",
    "    if iseven(n):\n",
    "        for i in range(n, 0, -1):\n",
    "            for j in range(i):\n",
    "                print(\"*\", end =\" \")\n",
    "            print()\n",
    "    else:\n",
    "        for i in range(n+1):\n",
    "            for j in range(i):\n",
    "                print(\"*\", end = \" \")\n",
    "            print()"
   ]
  },
  {
   "cell_type": "code",
   "execution_count": 37,
   "id": "5b405d99",
   "metadata": {},
   "outputs": [
    {
     "name": "stdout",
     "output_type": "stream",
     "text": [
      "* * * * \n",
      "* * * \n",
      "* * \n",
      "* \n"
     ]
    }
   ],
   "source": [
    "print_awesome_pattern(4)"
   ]
  },
  {
   "cell_type": "code",
   "execution_count": 29,
   "id": "d41cead5",
   "metadata": {},
   "outputs": [
    {
     "name": "stdout",
     "output_type": "stream",
     "text": [
      "\n",
      "* \n",
      "* * \n",
      "* * * \n"
     ]
    }
   ],
   "source": [
    "print_awesome_pattern(3)"
   ]
  },
  {
   "cell_type": "markdown",
   "id": "d233b0d4",
   "metadata": {},
   "source": [
    "### 3. Master Yoda speaks a sentence in a different order. Let's say you want to convert a sentence to Yoda’s speech.  Write a function named master_yoda which will take a string as input and return the output after reversing the words of the sentence."
   ]
  },
  {
   "cell_type": "code",
   "execution_count": 38,
   "id": "9431ec3a",
   "metadata": {},
   "outputs": [],
   "source": [
    "def master_yoda(sentance):\n",
    "    # creating list of words\n",
    "    words = []\n",
    "    for word in sentance.split(' '):\n",
    "        words.append(word)\n",
    "    \n",
    "    terminator = \"\"\n",
    "    # If the sentance ends with a dot(.) we need to extract that \n",
    "    if words[-1].endswith('.') or words[-1].endswith('?'):\n",
    "        terminator = words[-1][-1]\n",
    "        words[-1] = words[-1][:-1]\n",
    "\n",
    "    # reversing the words\n",
    "    words.reverse()\n",
    "\n",
    "    # recreating the sentance with reversed words\n",
    "    new_sentance = \" \".join(words)\n",
    "    new_sentance = new_sentance + terminator\n",
    "    return new_sentance"
   ]
  },
  {
   "cell_type": "code",
   "execution_count": 39,
   "id": "b20be7a4",
   "metadata": {},
   "outputs": [
    {
     "data": {
      "text/plain": [
       "'Python learning am I.'"
      ]
     },
     "execution_count": 39,
     "metadata": {},
     "output_type": "execute_result"
    }
   ],
   "source": [
    "master_yoda(\"I am learning Python.\")"
   ]
  },
  {
   "cell_type": "code",
   "execution_count": 40,
   "id": "677c9a17",
   "metadata": {},
   "outputs": [
    {
     "data": {
      "text/plain": [
       "'World Hello'"
      ]
     },
     "execution_count": 40,
     "metadata": {},
     "output_type": "execute_result"
    }
   ],
   "source": [
    "master_yoda(sentance=\"Hello World\")"
   ]
  },
  {
   "cell_type": "code",
   "execution_count": 41,
   "id": "1df08089",
   "metadata": {},
   "outputs": [
    {
     "data": {
      "text/plain": [
       "'Hello'"
      ]
     },
     "execution_count": 41,
     "metadata": {},
     "output_type": "execute_result"
    }
   ],
   "source": [
    "master_yoda(sentance=\"Hello\")"
   ]
  },
  {
   "cell_type": "markdown",
   "id": "10577583",
   "metadata": {},
   "source": [
    "### 4. Write a function pay_bill which will take a list of expenses, percent commission, and a special offer amount\n",
    "\n",
    "* If you don’t pass percent_comission it should be always 9.8%\n",
    "\n",
    "* The Last argument special_offer_amount is not a required argument, you don’t need to pass it. Make it an optional parameter.\n",
    "\n",
    "* If you want to give a special offer to the user, then you have to pass the third argument special_offer_amount. If the user   makes the purchase greater than special_offer_amount, then give him an extra commission of 1.2%.\n",
    "\n",
    "* Calculate the final payable price of the bill and return it from the function."
   ]
  },
  {
   "cell_type": "code",
   "execution_count": 42,
   "id": "bdd8a291",
   "metadata": {},
   "outputs": [],
   "source": [
    "def pay_bill(expenses, percent_commission=0.098, offer_amount=None):\n",
    "    \n",
    "    # calculating the total bill amount\n",
    "    total_bill_amount = 0\n",
    "    for amount in  expenses:\n",
    "        total_bill_amount += amount\n",
    "\n",
    "    # calculate extra commision percentage\n",
    "    extra_commission = 0\n",
    "    if offer_amount:\n",
    "        if total_bill_amount >= offer_amount:\n",
    "            extra_commission = 0.012\n",
    "            print(f\"Congratulations! You earned 1.2% extra commission.\")\n",
    "\n",
    "    # Calculate final payable amount\n",
    "    commission_amount = total_bill_amount * (percent_commission + extra_commission)\n",
    "    final_amount = total_bill_amount - commission_amount\n",
    "    return final_amount"
   ]
  },
  {
   "cell_type": "code",
   "execution_count": 43,
   "id": "473e9dae",
   "metadata": {},
   "outputs": [
    {
     "data": {
      "text/plain": [
       "1022.8679999999999"
      ]
     },
     "execution_count": 43,
     "metadata": {},
     "output_type": "execute_result"
    }
   ],
   "source": [
    "pay_bill([100, 145, 567, 322])"
   ]
  },
  {
   "cell_type": "code",
   "execution_count": 44,
   "id": "0464b3c2",
   "metadata": {},
   "outputs": [
    {
     "data": {
      "text/plain": [
       "1043.704"
      ]
     },
     "execution_count": 44,
     "metadata": {},
     "output_type": "execute_result"
    }
   ],
   "source": [
    "pay_bill([100, 145, 565, 322], 0.078)"
   ]
  },
  {
   "cell_type": "code",
   "execution_count": 45,
   "id": "58c27e4a",
   "metadata": {},
   "outputs": [
    {
     "name": "stdout",
     "output_type": "stream",
     "text": [
      "Congratulations! You earned 1.2% extra commission.\n"
     ]
    },
    {
     "data": {
      "text/plain": [
       "1334.4279999999999"
      ]
     },
     "execution_count": 45,
     "metadata": {},
     "output_type": "execute_result"
    }
   ],
   "source": [
    "pay_bill([200, 400, 86, 300, 500], 0.09, 800)"
   ]
  },
  {
   "cell_type": "code",
   "execution_count": 46,
   "id": "a890d9a8",
   "metadata": {},
   "outputs": [
    {
     "name": "stdout",
     "output_type": "stream",
     "text": [
      "Congratulations! You earned 1.2% extra commission.\n"
     ]
    },
    {
     "data": {
      "text/plain": [
       "1322.54"
      ]
     },
     "execution_count": 46,
     "metadata": {},
     "output_type": "execute_result"
    }
   ],
   "source": [
    "pay_bill([200, 400, 86, 300, 500], offer_amount=900)"
   ]
  },
  {
   "cell_type": "code",
   "execution_count": 47,
   "id": "6b18e02e",
   "metadata": {},
   "outputs": [
    {
     "data": {
      "text/plain": [
       "1337.4"
      ]
     },
     "execution_count": 47,
     "metadata": {},
     "output_type": "execute_result"
    }
   ],
   "source": [
    "pay_bill([200, 400, 86, 300, 500], percent_commission=0.1, offer_amount=1500)"
   ]
  },
  {
   "cell_type": "code",
   "execution_count": null,
   "id": "35406e7d",
   "metadata": {},
   "outputs": [],
   "source": []
  }
 ],
 "metadata": {
  "kernelspec": {
   "display_name": "Python 3 (ipykernel)",
   "language": "python",
   "name": "python3"
  },
  "language_info": {
   "codemirror_mode": {
    "name": "ipython",
    "version": 3
   },
   "file_extension": ".py",
   "mimetype": "text/x-python",
   "name": "python",
   "nbconvert_exporter": "python",
   "pygments_lexer": "ipython3",
   "version": "3.8.10"
  }
 },
 "nbformat": 4,
 "nbformat_minor": 5
}

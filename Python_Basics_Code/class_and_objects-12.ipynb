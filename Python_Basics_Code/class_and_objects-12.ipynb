{
 "cells": [
  {
   "cell_type": "markdown",
   "id": "b43adfcc",
   "metadata": {},
   "source": [
    "# Exercises:"
   ]
  },
  {
   "cell_type": "markdown",
   "id": "70f85c05",
   "metadata": {},
   "source": [
    "1. Avengers is a Marvel’s American Superheroes team, and if you are a fan of avengers, recently you have learned about classes and objects in your python course. Now you want to showcase your programming skills by representing the Avengers team using classes. Create a class called Avenger and create these six superheroes using this class.\n",
    "\n",
    "super_heroes = [\"Captain America\", \"Iron Man\", \"Black Widow\", \"Hulk\", \"Thor\", \"Hawkeye\"]\n",
    "\n",
    "2. Your Avenger class should have these properties:\n",
    "\n",
    "    1.Name\n",
    "\n",
    "    2.Age\n",
    "\n",
    "    3.Gender\n",
    "\n",
    "    4.Super Power\n",
    "\n",
    "    5.Weapon\n",
    "\n",
    "3. Captain America has Super strength, Iron Man has Technology, Black Widow is superhuman, Hulk has Unlimited Strength, Thor has super Energy and Hawkeye has fighting skills as superpowers.\n",
    "\n",
    "4. Weapons: Shield, Armor, Batons, No Weapon for hulk, Mjölnir, Bow, and Arrows  \n",
    "\n",
    "5. Create methods to get the information about each superhero\n",
    "\n",
    "6. Create a method is_leader() which will tell if the superhero is a leader or not."
   ]
  },
  {
   "cell_type": "code",
   "execution_count": 15,
   "id": "a3d76bef",
   "metadata": {},
   "outputs": [],
   "source": [
    "# creating the Avenger class\n",
    "\n",
    "class Avenger:\n",
    "    def __init__(self, name, age, gender, superpower,weapon):\n",
    "        self.name = name\n",
    "        self.age = age\n",
    "        self.gender = gender\n",
    "        self.superpower = superpower\n",
    "        self.weapon = weapon\n",
    "        \n",
    "         # is Leader\n",
    "        self.isLeader = False\n",
    "        \n",
    "    def get_name(self):\n",
    "        return self.name\n",
    "    \n",
    "    def get_age(self):\n",
    "        return self.age\n",
    "    \n",
    "    def get_superpower(self):\n",
    "        return self.superpower\n",
    "    \n",
    "    def get_info(self):\n",
    "        return f\"\"\"\n",
    "        \n",
    "        Avenger Profile:\n",
    "        \n",
    "        Name : {self.name}\n",
    "        Age  : {self.age}\n",
    "        Gender:{self.gender}\n",
    "        \n",
    "        Has {self.weapon} weapon and {self.superpower} super power.\"\"\"\n",
    "    \n",
    "# is leader function\n",
    "\n",
    "\n",
    "    def is_leader(self):\n",
    "        return self.isLeader\n",
    "    \n",
    "    def make_leader(self):\n",
    "        self.isLeader = True\n",
    "        return f\"{self.name} is the new leader of Avengers\"\n",
    "    \n",
    "    def remove_leader(self):\n",
    "        self.isLeader = False\n",
    "        return f\"{self.name} is removed form the leader\"\n",
    "    \n",
    "    def __str__(self):\n",
    "        return f\" Avenger ({self.name}, {self.age}, . . .)\"\n",
    "\n",
    "        \n",
    "        "
   ]
  },
  {
   "cell_type": "markdown",
   "id": "987538e8",
   "metadata": {},
   "source": [
    "Now, let's create our superheroes team"
   ]
  },
  {
   "cell_type": "code",
   "execution_count": 16,
   "id": "bef592c3",
   "metadata": {},
   "outputs": [],
   "source": [
    "Super_heroes = ['Captain America', 'Iron Man', 'Black Widow', 'Hulk', 'Thor', 'Hawkeye']\n",
    "super_powers = ['Super strength', 'Technology', 'superhuman', 'Unlimited Strength', 'super Energy', 'fighting skills'] # from question\n",
    "weapons = [\"Shield\", \"Armor\", \"Batons\", \"No Weapon\", \"Mjölnir\", \"Bow and Arrows\"]    #from question\n",
    "\n",
    "# let's create a ages and gender list randomly\n",
    "ages = [110, 40, 35, 34, 10000, 30]\n",
    "genders = ['M', 'M', 'F', 'M', 'M', 'M']\n",
    "\n",
    "\n",
    "# now create our avengers team using the data\n",
    "\n",
    "avengers = []\n",
    "\n",
    "for name, age, gender, power, weapon in zip(Super_heroes, ages, genders, super_powers, weapons):\n",
    "    avengers.append(\n",
    "    Avenger(name, age, gender, power, weapon)\n",
    "    )"
   ]
  },
  {
   "cell_type": "code",
   "execution_count": 17,
   "id": "864fc0e2",
   "metadata": {},
   "outputs": [
    {
     "name": "stdout",
     "output_type": "stream",
     "text": [
      " Avenger (Captain America, 110, . . .)\n"
     ]
    }
   ],
   "source": [
    "print(avengers[0])"
   ]
  },
  {
   "cell_type": "code",
   "execution_count": 18,
   "id": "5785bd74",
   "metadata": {},
   "outputs": [
    {
     "data": {
      "text/plain": [
       "[<__main__.Avenger at 0x22f30d6a190>,\n",
       " <__main__.Avenger at 0x22f3099d220>,\n",
       " <__main__.Avenger at 0x22f3099d160>,\n",
       " <__main__.Avenger at 0x22f3099d190>,\n",
       " <__main__.Avenger at 0x22f3099d070>,\n",
       " <__main__.Avenger at 0x22f3099d3d0>]"
      ]
     },
     "execution_count": 18,
     "metadata": {},
     "output_type": "execute_result"
    }
   ],
   "source": [
    "avengers"
   ]
  },
  {
   "cell_type": "code",
   "execution_count": 19,
   "id": "d761c2af",
   "metadata": {},
   "outputs": [
    {
     "data": {
      "text/plain": [
       "'Captain America is the new leader of Avengers'"
      ]
     },
     "execution_count": 19,
     "metadata": {},
     "output_type": "execute_result"
    }
   ],
   "source": [
    "avengers[0].make_leader()"
   ]
  },
  {
   "cell_type": "code",
   "execution_count": 20,
   "id": "d3e63f8d",
   "metadata": {},
   "outputs": [
    {
     "name": "stdout",
     "output_type": "stream",
     "text": [
      "\n",
      "        \n",
      "        Avenger Profile:\n",
      "        \n",
      "        Name : Black Widow\n",
      "        Age  : 35\n",
      "        Gender:F\n",
      "        \n",
      "        Has Batons weapon and superhuman super power.\n"
     ]
    }
   ],
   "source": [
    "# print information\n",
    "print(avengers[2].get_info())"
   ]
  },
  {
   "cell_type": "code",
   "execution_count": 22,
   "id": "6c252853",
   "metadata": {},
   "outputs": [
    {
     "name": "stdout",
     "output_type": "stream",
     "text": [
      "\n",
      "        \n",
      "        Avenger Profile:\n",
      "        \n",
      "        Name : Hawkeye\n",
      "        Age  : 30\n",
      "        Gender:M\n",
      "        \n",
      "        Has Bow and Arrows weapon and fighting skills super power.\n"
     ]
    }
   ],
   "source": [
    "print(avengers[5].get_info())"
   ]
  },
  {
   "cell_type": "code",
   "execution_count": 23,
   "id": "14868f61",
   "metadata": {},
   "outputs": [
    {
     "name": "stdout",
     "output_type": "stream",
     "text": [
      "False\n"
     ]
    }
   ],
   "source": [
    "print(avengers[1].is_leader())"
   ]
  },
  {
   "cell_type": "code",
   "execution_count": 24,
   "id": "85de3f2b",
   "metadata": {},
   "outputs": [
    {
     "name": "stdout",
     "output_type": "stream",
     "text": [
      "True\n"
     ]
    }
   ],
   "source": [
    "print(avengers[0].is_leader())"
   ]
  },
  {
   "cell_type": "code",
   "execution_count": 25,
   "id": "896130cc",
   "metadata": {},
   "outputs": [
    {
     "data": {
      "text/plain": [
       "'Black Widow is the new leader of Avengers'"
      ]
     },
     "execution_count": 25,
     "metadata": {},
     "output_type": "execute_result"
    }
   ],
   "source": [
    "avengers[2].make_leader()"
   ]
  },
  {
   "cell_type": "code",
   "execution_count": 26,
   "id": "d24ef5db",
   "metadata": {},
   "outputs": [
    {
     "name": "stdout",
     "output_type": "stream",
     "text": [
      "True\n"
     ]
    }
   ],
   "source": [
    "print(avengers[0].is_leader())"
   ]
  },
  {
   "cell_type": "code",
   "execution_count": 27,
   "id": "3d796d2a",
   "metadata": {},
   "outputs": [
    {
     "data": {
      "text/plain": [
       "'Captain America is removed form the leader'"
      ]
     },
     "execution_count": 27,
     "metadata": {},
     "output_type": "execute_result"
    }
   ],
   "source": [
    "avengers[0].remove_leader()"
   ]
  },
  {
   "cell_type": "code",
   "execution_count": 28,
   "id": "03089fa5",
   "metadata": {},
   "outputs": [
    {
     "name": "stdout",
     "output_type": "stream",
     "text": [
      "False\n"
     ]
    }
   ],
   "source": [
    "print(avengers[0].is_leader())"
   ]
  },
  {
   "cell_type": "code",
   "execution_count": 29,
   "id": "217c91d7",
   "metadata": {},
   "outputs": [
    {
     "name": "stdout",
     "output_type": "stream",
     "text": [
      "True\n"
     ]
    }
   ],
   "source": [
    "print(avengers[2].is_leader())"
   ]
  },
  {
   "cell_type": "code",
   "execution_count": null,
   "id": "b122669c",
   "metadata": {},
   "outputs": [],
   "source": []
  }
 ],
 "metadata": {
  "kernelspec": {
   "display_name": "Python 3 (ipykernel)",
   "language": "python",
   "name": "python3"
  },
  "language_info": {
   "codemirror_mode": {
    "name": "ipython",
    "version": 3
   },
   "file_extension": ".py",
   "mimetype": "text/x-python",
   "name": "python",
   "nbconvert_exporter": "python",
   "pygments_lexer": "ipython3",
   "version": "3.8.10"
  }
 },
 "nbformat": 4,
 "nbformat_minor": 5
}

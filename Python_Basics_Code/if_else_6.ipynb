{
 "cells": [
  {
   "cell_type": "markdown",
   "id": "79112c8e",
   "metadata": {},
   "source": [
    "# Exercises:"
   ]
  },
  {
   "cell_type": "markdown",
   "id": "c6ace84d",
   "metadata": {},
   "source": [
    "1.Write a program that can tell you your BMI Category.\n",
    "\n",
    "Ask user to enter height\n",
    "\n",
    "Ask user to enter weight\n",
    "\n",
    "Calculate the BMI(Body Mass Index = weight / height 2) and store it in a variable\n",
    "\n",
    "If the BMI is 30 or greater, print “Obesity”\n",
    "\n",
    "If the BMI is in between 25 and 29, print “Overweight”\n",
    "\n",
    "If the BMI is in between 18.5 and 25, print “Normal”\n",
    "\n",
    "If the BMI is less than 18.5, print “Underweight”\n",
    "\n"
   ]
  },
  {
   "cell_type": "code",
   "execution_count": 20,
   "id": "5e7925c3",
   "metadata": {},
   "outputs": [
    {
     "name": "stdout",
     "output_type": "stream",
     "text": [
      "Enter your height:175\n"
     ]
    }
   ],
   "source": [
    "height = input(\"Enter your height:\")\n",
    "height = int(height)"
   ]
  },
  {
   "cell_type": "code",
   "execution_count": 21,
   "id": "8c131fb0",
   "metadata": {},
   "outputs": [
    {
     "name": "stdout",
     "output_type": "stream",
     "text": [
      "Enter your weight:84\n"
     ]
    }
   ],
   "source": [
    "weight = input(\"Enter your weight:\")\n",
    "weight = float(weight)"
   ]
  },
  {
   "cell_type": "markdown",
   "id": "146420fc",
   "metadata": {},
   "source": [
    "BMI = weight / height**2"
   ]
  },
  {
   "cell_type": "code",
   "execution_count": 22,
   "id": "ea11ce83",
   "metadata": {},
   "outputs": [
    {
     "data": {
      "text/plain": [
       "0.002742857142857143"
      ]
     },
     "execution_count": 22,
     "metadata": {},
     "output_type": "execute_result"
    }
   ],
   "source": [
    "bmi = weight / (height**2)\n",
    "bmi"
   ]
  },
  {
   "cell_type": "code",
   "execution_count": 23,
   "id": "7b37c0e9",
   "metadata": {},
   "outputs": [
    {
     "name": "stdout",
     "output_type": "stream",
     "text": [
      "Underweight\n"
     ]
    }
   ],
   "source": [
    "if bmi > 30:\n",
    "    print(\"Obesity\")\n",
    "elif bmi > 25 and bmi < 29:\n",
    "    print(\"Over weight\")\n",
    "elif bmi > 18.5 and bmi < 25:\n",
    "    print(\"Normal\")\n",
    "elif bmi < 18.5:\n",
    "    print(\"Underweight\")"
   ]
  },
  {
   "cell_type": "markdown",
   "id": "42ea7cbf",
   "metadata": {},
   "source": [
    "# Using the following list of cities per country,\n",
    "\n",
    "​​​​​​India = [\"Mumbai\", \"Bangalore\", \"Chennai\", \"Delhi\"]\n",
    "USA = [\"New York\",\"Chicago\",\"Las Vegas\", \"San Francisco\"]\n",
    "UK = [\"London\", \"Manchester\", \"Liverpool\", \"Nottingham\"]\n",
    "Write a program that asks the user to enter a city name, and it should tell which country the city belongs to\n",
    "\n",
    "Write a program that asks users to enter two cities, and it tells you if they both are in the same country or nor />\n",
    "For example:\n",
    "If I enter Mumbai and Chennai, it will print \"Both cities are in India\" but if I enter Mumbai and New York it should print \"They don't belong to the same country\""
   ]
  },
  {
   "cell_type": "code",
   "execution_count": 24,
   "id": "1f0ae6d0",
   "metadata": {},
   "outputs": [],
   "source": [
    "India = [\"Mumbai\", \"Bangalore\", \"Chennai\", \"Delhi\"] \n",
    "USA = [\"New York\",\"Chicago\",\"Las Vegas\", \"San Francisco\"] \n",
    "UK = [\"London\", \"Manchester\", \"Liverpool\", \"Nottingham\"]"
   ]
  },
  {
   "cell_type": "code",
   "execution_count": 35,
   "id": "20a72ebd",
   "metadata": {},
   "outputs": [
    {
     "name": "stdout",
     "output_type": "stream",
     "text": [
      "Enter city name: Chennai\n",
      "Chennai belongs to India\n"
     ]
    }
   ],
   "source": [
    "city = input(\"Enter city name: \")\n",
    "\n",
    "if city in India:\n",
    "    print(f'{city} belongs to India')\n",
    "elif city in USA:\n",
    "    print(f'{city} belongs to USA')\n",
    "elif city in UK:\n",
    "    print(f'{city} belngs to UK')\n",
    "else:\n",
    "    print(\"Unknown city\")"
   ]
  },
  {
   "cell_type": "code",
   "execution_count": 1,
   "id": "119f025a",
   "metadata": {},
   "outputs": [
    {
     "name": "stdout",
     "output_type": "stream",
     "text": [
      "Enter city name 1 : Chennai\n",
      "Enter city name 2 : New York\n"
     ]
    },
    {
     "ename": "NameError",
     "evalue": "name 'India' is not defined",
     "output_type": "error",
     "traceback": [
      "\u001b[1;31m---------------------------------------------------------------------------\u001b[0m",
      "\u001b[1;31mNameError\u001b[0m                                 Traceback (most recent call last)",
      "Input \u001b[1;32mIn [1]\u001b[0m, in \u001b[0;36m<cell line: 4>\u001b[1;34m()\u001b[0m\n\u001b[0;32m      1\u001b[0m city1 \u001b[38;5;241m=\u001b[39m \u001b[38;5;28minput\u001b[39m(\u001b[38;5;124m\"\u001b[39m\u001b[38;5;124mEnter city name 1 : \u001b[39m\u001b[38;5;124m\"\u001b[39m)\n\u001b[0;32m      2\u001b[0m city2 \u001b[38;5;241m=\u001b[39m \u001b[38;5;28minput\u001b[39m(\u001b[38;5;124m\"\u001b[39m\u001b[38;5;124mEnter city name 2 : \u001b[39m\u001b[38;5;124m\"\u001b[39m)\n\u001b[1;32m----> 4\u001b[0m \u001b[38;5;28;01mif\u001b[39;00m city1 \u001b[38;5;129;01mand\u001b[39;00m city2 \u001b[38;5;129;01min\u001b[39;00m \u001b[43mIndia\u001b[49m:\n\u001b[0;32m      5\u001b[0m     \u001b[38;5;28mprint\u001b[39m(\u001b[38;5;124mf\u001b[39m\u001b[38;5;124m'\u001b[39m\u001b[38;5;132;01m{\u001b[39;00mcity1\u001b[38;5;132;01m}\u001b[39;00m\u001b[38;5;124m and \u001b[39m\u001b[38;5;132;01m{\u001b[39;00mcity2\u001b[38;5;132;01m}\u001b[39;00m\u001b[38;5;124m belongs to India\u001b[39m\u001b[38;5;124m'\u001b[39m)\n\u001b[0;32m      6\u001b[0m \u001b[38;5;28;01melif\u001b[39;00m city1 \u001b[38;5;129;01mand\u001b[39;00m city2 \u001b[38;5;129;01min\u001b[39;00m USA:\n",
      "\u001b[1;31mNameError\u001b[0m: name 'India' is not defined"
     ]
    }
   ],
   "source": [
    "city1 = input(\"Enter city name 1 : \")\n",
    "city2 = input(\"Enter city name 2 : \")\n",
    "\n",
    "if city1 and city2 in India:\n",
    "    print(f'{city1} and {city2} belongs to India')\n",
    "elif city1 and city2 in USA:\n",
    "    print(f'{city1} and {city2} belongs to USA')\n",
    "elif city1 and city2 in UK:\n",
    "    print(f'{city1} and {city2} belongs to UK')\n",
    "else:\n",
    "    print(\"Both cities belongs to different contries.\")"
   ]
  },
  {
   "cell_type": "code",
   "execution_count": null,
   "id": "abf6a9ae",
   "metadata": {},
   "outputs": [],
   "source": [
    "india = [\"Mumbai\", \"Bangalore\", \"Chennai\", \"Delhi\"]\n",
    "usa = [\"New York\", \"Chicago\", \"Las Vegas\", \"San Francisco\"]\n",
    "uk = [\"London\", \"Manchester\", \"Liverpool\", \"Nottingham\"]\n",
    "\n",
    "\n",
    "\n",
    "\n",
    "city1 = input(\"Enter city: \")\n",
    "city2 = input(\"Enter another city: \")\n",
    "\n",
    "\n",
    "if city1 in india and city2 in india:\n",
    "    print(\"Both city belongs to India.\")\n",
    "\n",
    "elif city1 in usa and city2 in usa:\n",
    "    print(\"Both city belongs to USA.\")\n",
    "\n",
    "elif city1 in uk and city2 in uk:\n",
    "    print(\"Both city belongs to UK.\")\n",
    "\n",
    "else:\n",
    "    print(\"Both city belongs to different countries\")"
   ]
  },
  {
   "cell_type": "code",
   "execution_count": null,
   "id": "62c7da75",
   "metadata": {},
   "outputs": [],
   "source": []
  },
  {
   "cell_type": "code",
   "execution_count": null,
   "id": "4c4f2c8a",
   "metadata": {},
   "outputs": [],
   "source": []
  }
 ],
 "metadata": {
  "kernelspec": {
   "display_name": "Python 3 (ipykernel)",
   "language": "python",
   "name": "python3"
  },
  "language_info": {
   "codemirror_mode": {
    "name": "ipython",
    "version": 3
   },
   "file_extension": ".py",
   "mimetype": "text/x-python",
   "name": "python",
   "nbconvert_exporter": "python",
   "pygments_lexer": "ipython3",
   "version": "3.8.10"
  }
 },
 "nbformat": 4,
 "nbformat_minor": 5
}

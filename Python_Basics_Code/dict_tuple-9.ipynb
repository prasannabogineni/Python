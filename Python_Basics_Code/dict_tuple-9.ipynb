{
 "cells": [
  {
   "cell_type": "code",
   "execution_count": 1,
   "id": "e0612d7a",
   "metadata": {},
   "outputs": [],
   "source": [
    "expenses = [1200,1400,1700]"
   ]
  },
  {
   "cell_type": "code",
   "execution_count": 2,
   "id": "28ca3fa8",
   "metadata": {},
   "outputs": [],
   "source": [
    "point = (5,6,9,10)"
   ]
  },
  {
   "cell_type": "code",
   "execution_count": 4,
   "id": "adc6596a",
   "metadata": {},
   "outputs": [
    {
     "ename": "TypeError",
     "evalue": "'tuple' object does not support item assignment",
     "output_type": "error",
     "traceback": [
      "\u001b[1;31m---------------------------------------------------------------------------\u001b[0m",
      "\u001b[1;31mTypeError\u001b[0m                                 Traceback (most recent call last)",
      "Input \u001b[1;32mIn [4]\u001b[0m, in \u001b[0;36m<cell line: 1>\u001b[1;34m()\u001b[0m\n\u001b[1;32m----> 1\u001b[0m point[\u001b[38;5;241m1\u001b[39m]\u001b[38;5;241m=\u001b[39m\u001b[38;5;241m8\u001b[39m\n",
      "\u001b[1;31mTypeError\u001b[0m: 'tuple' object does not support item assignment"
     ]
    }
   ],
   "source": [
    "point[1]=8"
   ]
  },
  {
   "cell_type": "code",
   "execution_count": 5,
   "id": "5598a6d9",
   "metadata": {},
   "outputs": [],
   "source": [
    "def find_pe_and_pb(price, eps, book_value):\n",
    "    pe = price/eps\n",
    "    pb = price/book_value\n",
    "    return pe, pb"
   ]
  },
  {
   "cell_type": "code",
   "execution_count": 6,
   "id": "2613c616",
   "metadata": {},
   "outputs": [],
   "source": [
    "pe_ratio, pb_ratio = find_pe_and_pb(100, 2, 4)"
   ]
  },
  {
   "cell_type": "code",
   "execution_count": 7,
   "id": "d3b16cee",
   "metadata": {},
   "outputs": [
    {
     "data": {
      "text/plain": [
       "50.0"
      ]
     },
     "execution_count": 7,
     "metadata": {},
     "output_type": "execute_result"
    }
   ],
   "source": [
    "pe_ratio"
   ]
  },
  {
   "cell_type": "code",
   "execution_count": 8,
   "id": "e7e104af",
   "metadata": {},
   "outputs": [
    {
     "data": {
      "text/plain": [
       "25.0"
      ]
     },
     "execution_count": 8,
     "metadata": {},
     "output_type": "execute_result"
    }
   ],
   "source": [
    "pb_ratio"
   ]
  },
  {
   "cell_type": "code",
   "execution_count": 9,
   "id": "92458853",
   "metadata": {},
   "outputs": [],
   "source": [
    "contacts = [('rachel', 8888999911), ('mona', 9123765198), ('joey', 8283671092)]"
   ]
  },
  {
   "cell_type": "code",
   "execution_count": 10,
   "id": "a015b2df",
   "metadata": {},
   "outputs": [
    {
     "name": "stdout",
     "output_type": "stream",
     "text": [
      "8283671092\n"
     ]
    }
   ],
   "source": [
    "for contact in contacts:\n",
    "    if contact[0]=='joey':\n",
    "        print(contact[1])"
   ]
  },
  {
   "cell_type": "code",
   "execution_count": 11,
   "id": "2c99d49a",
   "metadata": {},
   "outputs": [
    {
     "data": {
      "text/plain": [
       "{'rachel': 8888999911, 'mona': 9123765198, 'joey': 8283671092}"
      ]
     },
     "execution_count": 11,
     "metadata": {},
     "output_type": "execute_result"
    }
   ],
   "source": [
    "d = {\n",
    "    'rachel': 8888999911,\n",
    "    'mona'  : 9123765198,\n",
    "    'joey'  : 8283671092\n",
    "}\n",
    "d"
   ]
  },
  {
   "cell_type": "code",
   "execution_count": 12,
   "id": "e181e28c",
   "metadata": {},
   "outputs": [
    {
     "data": {
      "text/plain": [
       "8283671092"
      ]
     },
     "execution_count": 12,
     "metadata": {},
     "output_type": "execute_result"
    }
   ],
   "source": [
    "d['joey']"
   ]
  },
  {
   "cell_type": "code",
   "execution_count": 16,
   "id": "6ab5984a",
   "metadata": {},
   "outputs": [
    {
     "ename": "KeyError",
     "evalue": "'mohan'",
     "output_type": "error",
     "traceback": [
      "\u001b[1;31m---------------------------------------------------------------------------\u001b[0m",
      "\u001b[1;31mKeyError\u001b[0m                                  Traceback (most recent call last)",
      "Input \u001b[1;32mIn [16]\u001b[0m, in \u001b[0;36m<cell line: 1>\u001b[1;34m()\u001b[0m\n\u001b[1;32m----> 1\u001b[0m \u001b[43md\u001b[49m\u001b[43m[\u001b[49m\u001b[38;5;124;43m'\u001b[39;49m\u001b[38;5;124;43mmohan\u001b[39;49m\u001b[38;5;124;43m'\u001b[39;49m\u001b[43m]\u001b[49m\n",
      "\u001b[1;31mKeyError\u001b[0m: 'mohan'"
     ]
    }
   ],
   "source": [
    "d['mohan']"
   ]
  },
  {
   "cell_type": "code",
   "execution_count": 17,
   "id": "450a5213",
   "metadata": {},
   "outputs": [],
   "source": [
    "d.get('mohan')"
   ]
  },
  {
   "cell_type": "code",
   "execution_count": 18,
   "id": "bba9819d",
   "metadata": {},
   "outputs": [
    {
     "data": {
      "text/plain": [
       "0"
      ]
     },
     "execution_count": 18,
     "metadata": {},
     "output_type": "execute_result"
    }
   ],
   "source": [
    "d.get('mohan', 0)"
   ]
  },
  {
   "cell_type": "code",
   "execution_count": 21,
   "id": "d99b30be",
   "metadata": {},
   "outputs": [
    {
     "data": {
      "text/plain": [
       "{'rachel': 1111122222, 'mona': 9123765198, 'joey': 8283671092}"
      ]
     },
     "execution_count": 21,
     "metadata": {},
     "output_type": "execute_result"
    }
   ],
   "source": [
    "d['rachel'] = 1111122222\n",
    "d"
   ]
  },
  {
   "cell_type": "code",
   "execution_count": 22,
   "id": "16bd2708",
   "metadata": {},
   "outputs": [
    {
     "data": {
      "text/plain": [
       "{'rachel': 1111122222,\n",
       " 'mona': 9123765198,\n",
       " 'joey': 8283671092,\n",
       " 'satya': 7777766666}"
      ]
     },
     "execution_count": 22,
     "metadata": {},
     "output_type": "execute_result"
    }
   ],
   "source": [
    "d['satya']=7777766666\n",
    "d"
   ]
  },
  {
   "cell_type": "code",
   "execution_count": 23,
   "id": "999044f2",
   "metadata": {},
   "outputs": [
    {
     "data": {
      "text/plain": [
       "{'rachel': 1111122222, 'mona': 9123765198, 'joey': 8283671092}"
      ]
     },
     "execution_count": 23,
     "metadata": {},
     "output_type": "execute_result"
    }
   ],
   "source": [
    "del d['satya']\n",
    "d"
   ]
  },
  {
   "cell_type": "code",
   "execution_count": 24,
   "id": "77a65734",
   "metadata": {},
   "outputs": [
    {
     "data": {
      "text/plain": [
       "False"
      ]
     },
     "execution_count": 24,
     "metadata": {},
     "output_type": "execute_result"
    }
   ],
   "source": [
    "'khan' in d"
   ]
  },
  {
   "cell_type": "code",
   "execution_count": 25,
   "id": "62b4ca01",
   "metadata": {},
   "outputs": [
    {
     "data": {
      "text/plain": [
       "True"
      ]
     },
     "execution_count": 25,
     "metadata": {},
     "output_type": "execute_result"
    }
   ],
   "source": [
    "'rachel' in d"
   ]
  },
  {
   "cell_type": "code",
   "execution_count": 27,
   "id": "3b808813",
   "metadata": {},
   "outputs": [],
   "source": [
    "d = {\n",
    "    'rachel' : {'phone':1234, 'address':'ntr statue'},\n",
    "    'joey':{'phone':5678, 'address':'gandhi center'}\n",
    "}"
   ]
  },
  {
   "cell_type": "code",
   "execution_count": 28,
   "id": "422b5327",
   "metadata": {},
   "outputs": [
    {
     "data": {
      "text/plain": [
       "'ntr statue'"
      ]
     },
     "execution_count": 28,
     "metadata": {},
     "output_type": "execute_result"
    }
   ],
   "source": [
    "d['rachel']['address']"
   ]
  },
  {
   "cell_type": "code",
   "execution_count": 30,
   "id": "210633ed",
   "metadata": {},
   "outputs": [
    {
     "data": {
      "text/plain": [
       "{'rachel': 1111122222, 'mona': 9123765198, 'joey': 8283671092}"
      ]
     },
     "execution_count": 30,
     "metadata": {},
     "output_type": "execute_result"
    }
   ],
   "source": [
    "d = {\n",
    "    'rachel' : 1111122222,\n",
    "    'mona'   : 9123765198,\n",
    "    'joey'   :8283671092\n",
    "}\n",
    "d"
   ]
  },
  {
   "cell_type": "code",
   "execution_count": 32,
   "id": "b2b08b2b",
   "metadata": {},
   "outputs": [
    {
     "name": "stdout",
     "output_type": "stream",
     "text": [
      "rachel 1111122222\n",
      "mona 9123765198\n",
      "joey 8283671092\n"
     ]
    }
   ],
   "source": [
    "for name in d:\n",
    "    print(name,d[name])\n",
    "    "
   ]
  },
  {
   "cell_type": "code",
   "execution_count": 33,
   "id": "31713c61",
   "metadata": {},
   "outputs": [
    {
     "name": "stdout",
     "output_type": "stream",
     "text": [
      "rachel 1111122222\n",
      "mona 9123765198\n",
      "joey 8283671092\n"
     ]
    }
   ],
   "source": [
    "for name,number in d.items():\n",
    "    print(name, number)"
   ]
  },
  {
   "cell_type": "code",
   "execution_count": 34,
   "id": "bb885c0b",
   "metadata": {
    "scrolled": true
   },
   "outputs": [
    {
     "data": {
      "text/plain": [
       "['__class__',\n",
       " '__contains__',\n",
       " '__delattr__',\n",
       " '__delitem__',\n",
       " '__dir__',\n",
       " '__doc__',\n",
       " '__eq__',\n",
       " '__format__',\n",
       " '__ge__',\n",
       " '__getattribute__',\n",
       " '__getitem__',\n",
       " '__gt__',\n",
       " '__hash__',\n",
       " '__init__',\n",
       " '__init_subclass__',\n",
       " '__iter__',\n",
       " '__le__',\n",
       " '__len__',\n",
       " '__lt__',\n",
       " '__ne__',\n",
       " '__new__',\n",
       " '__reduce__',\n",
       " '__reduce_ex__',\n",
       " '__repr__',\n",
       " '__reversed__',\n",
       " '__setattr__',\n",
       " '__setitem__',\n",
       " '__sizeof__',\n",
       " '__str__',\n",
       " '__subclasshook__',\n",
       " 'clear',\n",
       " 'copy',\n",
       " 'fromkeys',\n",
       " 'get',\n",
       " 'items',\n",
       " 'keys',\n",
       " 'pop',\n",
       " 'popitem',\n",
       " 'setdefault',\n",
       " 'update',\n",
       " 'values']"
      ]
     },
     "execution_count": 34,
     "metadata": {},
     "output_type": "execute_result"
    }
   ],
   "source": [
    "dir(d)"
   ]
  },
  {
   "cell_type": "code",
   "execution_count": 35,
   "id": "f8afcd29",
   "metadata": {},
   "outputs": [
    {
     "data": {
      "text/plain": [
       "{'rachel': 1111122222, 'mona': 9123765198, 'joey': 8283671092}"
      ]
     },
     "execution_count": 35,
     "metadata": {},
     "output_type": "execute_result"
    }
   ],
   "source": [
    "d"
   ]
  },
  {
   "cell_type": "code",
   "execution_count": 36,
   "id": "408f2ccc",
   "metadata": {},
   "outputs": [
    {
     "data": {
      "text/plain": [
       "dict_keys(['rachel', 'mona', 'joey'])"
      ]
     },
     "execution_count": 36,
     "metadata": {},
     "output_type": "execute_result"
    }
   ],
   "source": [
    "d.keys()"
   ]
  },
  {
   "cell_type": "code",
   "execution_count": 37,
   "id": "d84ae550",
   "metadata": {},
   "outputs": [
    {
     "data": {
      "text/plain": [
       "['rachel', 'mona', 'joey']"
      ]
     },
     "execution_count": 37,
     "metadata": {},
     "output_type": "execute_result"
    }
   ],
   "source": [
    "list(d.keys())"
   ]
  },
  {
   "cell_type": "code",
   "execution_count": 38,
   "id": "e067a3f7",
   "metadata": {},
   "outputs": [
    {
     "data": {
      "text/plain": [
       "dict_values([1111122222, 9123765198, 8283671092])"
      ]
     },
     "execution_count": 38,
     "metadata": {},
     "output_type": "execute_result"
    }
   ],
   "source": [
    "d.values()"
   ]
  },
  {
   "cell_type": "code",
   "execution_count": 39,
   "id": "c98d9b83",
   "metadata": {},
   "outputs": [
    {
     "ename": "SyntaxError",
     "evalue": "invalid character in identifier (3480282338.py, line 1)",
     "output_type": "error",
     "traceback": [
      "\u001b[1;36m  Input \u001b[1;32mIn [39]\u001b[1;36m\u001b[0m\n\u001b[1;33m    d = {‘Luke’: 1994, ‘Boba’: 1989, ‘Kyle’: 1998, ‘Hann’: 1993}\u001b[0m\n\u001b[1;37m              ^\u001b[0m\n\u001b[1;31mSyntaxError\u001b[0m\u001b[1;31m:\u001b[0m invalid character in identifier\n"
     ]
    }
   ],
   "source": [
    "d = {‘Luke’: 1994, ‘Boba’: 1989, ‘Kyle’: 1998, ‘Hann’: 1993}\n",
    "print(d[‘Boba’ : ‘Kyle’])"
   ]
  },
  {
   "cell_type": "markdown",
   "id": "79ac9c0f",
   "metadata": {},
   "source": [
    "# Exercises:"
   ]
  },
  {
   "cell_type": "markdown",
   "id": "47fefd0e",
   "metadata": {},
   "source": [
    "### 1.Create a list of your friends' names and now create a list of tuples. The tuple should contain the friend’s name and the length of the name. For Example: if someone’s name is Aditya, the tuple would be: (‘Aditya’, 6)"
   ]
  },
  {
   "cell_type": "code",
   "execution_count": 42,
   "id": "d9c6c9a4",
   "metadata": {},
   "outputs": [],
   "source": [
    "def list_of_tuples(friends_list):\n",
    "    new_list = []\n",
    "    for friend in friends_list:\n",
    "        friend_tuple = (friend, len(friend))\n",
    "        new_list.append(friend_tuple)\n",
    "        \n",
    "    return new_list"
   ]
  },
  {
   "cell_type": "code",
   "execution_count": 43,
   "id": "815ece15",
   "metadata": {},
   "outputs": [
    {
     "data": {
      "text/plain": [
       "[('pavan', 5), ('ramya', 5), ('pitty', 5), ('navya', 5), ('chinchu', 7)]"
      ]
     },
     "execution_count": 43,
     "metadata": {},
     "output_type": "execute_result"
    }
   ],
   "source": [
    "friends = ['pavan', 'ramya', 'pitty', 'navya', 'chinchu']\n",
    "list_of_tuples(friends)"
   ]
  },
  {
   "cell_type": "code",
   "execution_count": 45,
   "id": "937b6778",
   "metadata": {},
   "outputs": [
    {
     "data": {
      "text/plain": [
       "[('apples', 6), ('guva', 4), ('mangala', 7), ('xx', 2)]"
      ]
     },
     "execution_count": 45,
     "metadata": {},
     "output_type": "execute_result"
    }
   ],
   "source": [
    "friends = ['apples','guva', 'mangala','xx']\n",
    "list_of_tuples(f)"
   ]
  },
  {
   "cell_type": "markdown",
   "id": "b2614dee",
   "metadata": {},
   "source": [
    " ### 2. You and your wife argued about expenses last night. You both want to know who is spending more in a month. Now you both go to the Little Yoda he is a good python programmer. He suggested that both of you add an entry in a dictionary next time you spend money. So that you can have a clear picture of your expenses and plan to reduce them. Both dictionaries are as below-\n",
    "\n",
    "    Your expenses \n",
    "\n",
    "Clothes - 1100\n",
    "\n",
    "Shoes - 1000\n",
    "\n",
    "Watch - 900\n",
    "\n",
    "Mobile Recharge - 699\n",
    "\n",
    "Petrol - 1980\n",
    "\n",
    "    Your Wife’s expenses \n",
    "\n",
    "Mobile Recharge - 799\n",
    "\n",
    "DTH recharge - 999\n",
    "\n",
    "Clothes - 2310\n",
    "\n",
    "Makeup - 3670\n",
    "\n",
    "Shoes - 999\n",
    "\n",
    "* Find out the total expenses for each of you.\n",
    "\n",
    "* Find out who spending more\n",
    "\n",
    "* Find out which thing you and your wife spending more"
   ]
  },
  {
   "cell_type": "code",
   "execution_count": 50,
   "id": "6bf65530",
   "metadata": {},
   "outputs": [],
   "source": [
    "my_expenses = dict()\n",
    "wife_expenses = dict()"
   ]
  },
  {
   "cell_type": "code",
   "execution_count": 60,
   "id": "835cfe12",
   "metadata": {},
   "outputs": [],
   "source": [
    "# adding data to the dictionaries\n",
    "my_expenses['Clothes'] = 100\n",
    "my_expenses['Shoes'] = 1000\n",
    "my_expenses['Watch'] = 900\n",
    "my_expenses['Mobile Recharge'] = 699\n",
    "my_expenses['Petrol'] = 1980"
   ]
  },
  {
   "cell_type": "code",
   "execution_count": 61,
   "id": "9d60c185",
   "metadata": {},
   "outputs": [],
   "source": [
    "wife_expenses.update({\n",
    "    \"Mobile Recharge\" : 799,\n",
    "    \"DTH recharge\" : 999,\n",
    "    \"Clothes\" : 2310,\n",
    "    \"Makeup\" : 3670,\n",
    "    \"Shoes\" : 999\n",
    "})"
   ]
  },
  {
   "cell_type": "code",
   "execution_count": 62,
   "id": "d1d6486a",
   "metadata": {},
   "outputs": [
    {
     "data": {
      "text/plain": [
       "{'Clothes': 100,\n",
       " 'Shoes': 1000,\n",
       " 'Watch': 900,\n",
       " 'Mobile Recharge': 699,\n",
       " 'Petrol': 1980,\n",
       " 'Recharge': 699}"
      ]
     },
     "execution_count": 62,
     "metadata": {},
     "output_type": "execute_result"
    }
   ],
   "source": [
    "my_expenses"
   ]
  },
  {
   "cell_type": "code",
   "execution_count": 63,
   "id": "ac21a43a",
   "metadata": {},
   "outputs": [
    {
     "data": {
      "text/plain": [
       "{'Mobile Recharge': 799,\n",
       " 'DTH recharge': 999,\n",
       " 'Clothes': 2310,\n",
       " 'Makeup': 3670,\n",
       " 'Shoes': 999}"
      ]
     },
     "execution_count": 63,
     "metadata": {},
     "output_type": "execute_result"
    }
   ],
   "source": [
    "wife_expenses"
   ]
  },
  {
   "cell_type": "code",
   "execution_count": 64,
   "id": "42640644",
   "metadata": {},
   "outputs": [],
   "source": [
    "# little Yoda's Analysis\n",
    "\n",
    "# finding total expenses\n",
    "total = 0\n",
    "for key in my_expenses:\n",
    "    total += my_expenses[key]\n",
    "\n",
    "my_expenses['Total'] = total"
   ]
  },
  {
   "cell_type": "code",
   "execution_count": 65,
   "id": "682d04ba",
   "metadata": {},
   "outputs": [],
   "source": [
    "total = 0\n",
    "for key in wife_expenses:\n",
    "    total += wife_expenses[key]\n",
    "\n",
    "wife_expenses['Total'] = total"
   ]
  },
  {
   "cell_type": "code",
   "execution_count": 66,
   "id": "558f5fa1",
   "metadata": {},
   "outputs": [
    {
     "name": "stdout",
     "output_type": "stream",
     "text": [
      "Your Total Expenses are: 5378\n"
     ]
    }
   ],
   "source": [
    "print(f\"Your Total Expenses are: {my_expenses['Total']}\")"
   ]
  },
  {
   "cell_type": "code",
   "execution_count": 67,
   "id": "7f5370e5",
   "metadata": {},
   "outputs": [
    {
     "name": "stdout",
     "output_type": "stream",
     "text": [
      "Your Wife's Total Expenses are: 8777\n"
     ]
    }
   ],
   "source": [
    "print(f\"Your Wife's Total Expenses are: {wife_expenses['Total']}\")"
   ]
  },
  {
   "cell_type": "code",
   "execution_count": 68,
   "id": "8b30de45",
   "metadata": {},
   "outputs": [
    {
     "name": "stdout",
     "output_type": "stream",
     "text": [
      "Both's Total Expenses are: 14155\n"
     ]
    }
   ],
   "source": [
    "total = my_expenses['Total'] + wife_expenses['Total']\n",
    "print(f\"Both's Total Expenses are: {total}\")"
   ]
  },
  {
   "cell_type": "code",
   "execution_count": 69,
   "id": "39ee9cce",
   "metadata": {},
   "outputs": [
    {
     "name": "stdout",
     "output_type": "stream",
     "text": [
      "Your wife spent more than you\n"
     ]
    }
   ],
   "source": [
    "# B. Finding who spend more\n",
    "if my_expenses['Total'] > wife_expenses['Total']:\n",
    "    print(\"You spent more than your wife.\")\n",
    "else:\n",
    "    print(\"Your wife spent more than you\")"
   ]
  },
  {
   "cell_type": "code",
   "execution_count": 70,
   "id": "8e77aab4",
   "metadata": {},
   "outputs": [],
   "source": [
    "# c. finding expensive thing\n",
    "# If we can sort the dictionary in increasing order or decreasing order\n",
    "# we can find it easily\n",
    "\n",
    "def sort_the_dict(dictionary):\n",
    "    # because we need to sord the dictionary according to the values\n",
    "    sorted_dict = sorted(dictionary.items(), key=lambda kv:kv[1])\n",
    "    \n",
    "    return sorted_dict    "
   ]
  },
  {
   "cell_type": "code",
   "execution_count": 71,
   "id": "36e92db8",
   "metadata": {},
   "outputs": [
    {
     "data": {
      "text/plain": [
       "[('Clothes', 100),\n",
       " ('Mobile Recharge', 699),\n",
       " ('Recharge', 699),\n",
       " ('Watch', 900),\n",
       " ('Shoes', 1000),\n",
       " ('Petrol', 1980),\n",
       " ('Total', 5378)]"
      ]
     },
     "execution_count": 71,
     "metadata": {},
     "output_type": "execute_result"
    }
   ],
   "source": [
    "sort_the_dict(my_expenses)"
   ]
  },
  {
   "cell_type": "code",
   "execution_count": 72,
   "id": "a54294d0",
   "metadata": {},
   "outputs": [
    {
     "data": {
      "text/plain": [
       "[('Mobile Recharge', 799),\n",
       " ('DTH recharge', 999),\n",
       " ('Shoes', 999),\n",
       " ('Clothes', 2310),\n",
       " ('Makeup', 3670),\n",
       " ('Total', 8777)]"
      ]
     },
     "execution_count": 72,
     "metadata": {},
     "output_type": "execute_result"
    }
   ],
   "source": [
    "sort_the_dict(wife_expenses)"
   ]
  },
  {
   "cell_type": "markdown",
   "id": "d7f12af3",
   "metadata": {},
   "source": [
    "Because last element will always be the total so we have to print the second last element"
   ]
  },
  {
   "cell_type": "code",
   "execution_count": 73,
   "id": "c9050f96",
   "metadata": {},
   "outputs": [
    {
     "name": "stdout",
     "output_type": "stream",
     "text": [
      "You spent more on: \n"
     ]
    },
    {
     "data": {
      "text/plain": [
       "('Petrol', 1980)"
      ]
     },
     "execution_count": 73,
     "metadata": {},
     "output_type": "execute_result"
    }
   ],
   "source": [
    "print(\"You spent more on: \")\n",
    "sort_the_dict(my_expenses)[-2]"
   ]
  },
  {
   "cell_type": "code",
   "execution_count": 74,
   "id": "8da23b3a",
   "metadata": {},
   "outputs": [
    {
     "name": "stdout",
     "output_type": "stream",
     "text": [
      "Your wife spent more on: \n"
     ]
    },
    {
     "data": {
      "text/plain": [
       "('Makeup', 3670)"
      ]
     },
     "execution_count": 74,
     "metadata": {},
     "output_type": "execute_result"
    }
   ],
   "source": [
    "print(\"Your wife spent more on: \")\n",
    "sort_the_dict(wife_expenses)[-2]"
   ]
  },
  {
   "cell_type": "markdown",
   "id": "9ff3fac0",
   "metadata": {},
   "source": [
    "# Thanking you!!!! Happy coding !!!!!"
   ]
  },
  {
   "cell_type": "code",
   "execution_count": null,
   "id": "acd61edc",
   "metadata": {},
   "outputs": [],
   "source": []
  }
 ],
 "metadata": {
  "kernelspec": {
   "display_name": "Python 3 (ipykernel)",
   "language": "python",
   "name": "python3"
  },
  "language_info": {
   "codemirror_mode": {
    "name": "ipython",
    "version": 3
   },
   "file_extension": ".py",
   "mimetype": "text/x-python",
   "name": "python",
   "nbconvert_exporter": "python",
   "pygments_lexer": "ipython3",
   "version": "3.8.10"
  }
 },
 "nbformat": 4,
 "nbformat_minor": 5
}
